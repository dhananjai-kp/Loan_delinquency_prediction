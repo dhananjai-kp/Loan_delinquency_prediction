{
 "cells": [
  {
   "cell_type": "code",
   "execution_count": 1,
   "metadata": {
    "_cell_guid": "b1076dfc-b9ad-4769-8c92-a6c4dae69d19",
    "_uuid": "8f2839f25d086af736a60e9eeb907d3b93b6e0e5",
    "execution": {
     "iopub.execute_input": "2021-03-06T18:18:09.789371Z",
     "iopub.status.busy": "2021-03-06T18:18:09.788422Z",
     "iopub.status.idle": "2021-03-06T18:18:11.407604Z",
     "shell.execute_reply": "2021-03-06T18:18:11.406832Z"
    },
    "papermill": {
     "duration": 1.657584,
     "end_time": "2021-03-06T18:18:11.407844",
     "exception": false,
     "start_time": "2021-03-06T18:18:09.750260",
     "status": "completed"
    },
    "tags": []
   },
   "outputs": [],
   "source": [
    "# importing libraries\n",
    "import numpy as np\n",
    "import pandas as pd\n",
    "import seaborn as sns\n",
    "import matplotlib.pyplot as plt\n",
    "from sklearn.model_selection import train_test_split\n",
    "from sklearn.metrics import f1_score, confusion_matrix, classification_report\n",
    "from xgboost import XGBClassifier\n",
    "pd.set_option('display.max_columns', 500)"
   ]
  },
  {
   "cell_type": "code",
   "execution_count": 2,
   "metadata": {
    "execution": {
     "iopub.execute_input": "2021-03-06T18:18:11.469418Z",
     "iopub.status.busy": "2021-03-06T18:18:11.468763Z",
     "iopub.status.idle": "2021-03-06T18:18:12.378535Z",
     "shell.execute_reply": "2021-03-06T18:18:12.378000Z"
    },
    "papermill": {
     "duration": 0.941581,
     "end_time": "2021-03-06T18:18:12.378681",
     "exception": false,
     "start_time": "2021-03-06T18:18:11.437100",
     "status": "completed"
    },
    "tags": []
   },
   "outputs": [
    {
     "data": {
      "text/html": [
       "<div>\n",
       "<style scoped>\n",
       "    .dataframe tbody tr th:only-of-type {\n",
       "        vertical-align: middle;\n",
       "    }\n",
       "\n",
       "    .dataframe tbody tr th {\n",
       "        vertical-align: top;\n",
       "    }\n",
       "\n",
       "    .dataframe thead th {\n",
       "        text-align: right;\n",
       "    }\n",
       "</style>\n",
       "<table border=\"1\" class=\"dataframe\">\n",
       "  <thead>\n",
       "    <tr style=\"text-align: right;\">\n",
       "      <th></th>\n",
       "      <th>source</th>\n",
       "      <th>financial_institution</th>\n",
       "      <th>interest_rate</th>\n",
       "      <th>unpaid_principal_bal</th>\n",
       "      <th>loan_term</th>\n",
       "      <th>origination_date</th>\n",
       "      <th>first_payment_date</th>\n",
       "      <th>loan_to_value</th>\n",
       "      <th>number_of_borrowers</th>\n",
       "      <th>debt_to_income_ratio</th>\n",
       "      <th>borrower_credit_score</th>\n",
       "      <th>loan_purpose</th>\n",
       "      <th>insurance_percent</th>\n",
       "      <th>co-borrower_credit_score</th>\n",
       "      <th>insurance_type</th>\n",
       "      <th>m1</th>\n",
       "      <th>m2</th>\n",
       "      <th>m3</th>\n",
       "      <th>m4</th>\n",
       "      <th>m5</th>\n",
       "      <th>m6</th>\n",
       "      <th>m7</th>\n",
       "      <th>m8</th>\n",
       "      <th>m9</th>\n",
       "      <th>m10</th>\n",
       "      <th>m11</th>\n",
       "      <th>m12</th>\n",
       "      <th>m13</th>\n",
       "    </tr>\n",
       "  </thead>\n",
       "  <tbody>\n",
       "    <tr>\n",
       "      <th>0</th>\n",
       "      <td>Y</td>\n",
       "      <td>Martinez, Duffy and Bird</td>\n",
       "      <td>3.375</td>\n",
       "      <td>272000</td>\n",
       "      <td>180</td>\n",
       "      <td>2012-01-01</td>\n",
       "      <td>03/2012</td>\n",
       "      <td>72</td>\n",
       "      <td>2.0</td>\n",
       "      <td>31.0</td>\n",
       "      <td>770.0</td>\n",
       "      <td>B12</td>\n",
       "      <td>0.0</td>\n",
       "      <td>786.0</td>\n",
       "      <td>0.0</td>\n",
       "      <td>0</td>\n",
       "      <td>0</td>\n",
       "      <td>0</td>\n",
       "      <td>0</td>\n",
       "      <td>0</td>\n",
       "      <td>0</td>\n",
       "      <td>0</td>\n",
       "      <td>0</td>\n",
       "      <td>0</td>\n",
       "      <td>0</td>\n",
       "      <td>0</td>\n",
       "      <td>0</td>\n",
       "      <td>0</td>\n",
       "    </tr>\n",
       "    <tr>\n",
       "      <th>1</th>\n",
       "      <td>Y</td>\n",
       "      <td>Swanson, Newton and Miller</td>\n",
       "      <td>4.250</td>\n",
       "      <td>371000</td>\n",
       "      <td>360</td>\n",
       "      <td>2012-01-01</td>\n",
       "      <td>03/2012</td>\n",
       "      <td>95</td>\n",
       "      <td>1.0</td>\n",
       "      <td>45.0</td>\n",
       "      <td>727.0</td>\n",
       "      <td>C86</td>\n",
       "      <td>30.0</td>\n",
       "      <td>0.0</td>\n",
       "      <td>0.0</td>\n",
       "      <td>0</td>\n",
       "      <td>0</td>\n",
       "      <td>0</td>\n",
       "      <td>0</td>\n",
       "      <td>0</td>\n",
       "      <td>0</td>\n",
       "      <td>0</td>\n",
       "      <td>0</td>\n",
       "      <td>0</td>\n",
       "      <td>0</td>\n",
       "      <td>0</td>\n",
       "      <td>0</td>\n",
       "      <td>0</td>\n",
       "    </tr>\n",
       "    <tr>\n",
       "      <th>2</th>\n",
       "      <td>Y</td>\n",
       "      <td>OTHER</td>\n",
       "      <td>4.500</td>\n",
       "      <td>90000</td>\n",
       "      <td>360</td>\n",
       "      <td>2012-01-01</td>\n",
       "      <td>03/2012</td>\n",
       "      <td>69</td>\n",
       "      <td>1.0</td>\n",
       "      <td>39.0</td>\n",
       "      <td>726.0</td>\n",
       "      <td>B12</td>\n",
       "      <td>0.0</td>\n",
       "      <td>0.0</td>\n",
       "      <td>0.0</td>\n",
       "      <td>0</td>\n",
       "      <td>0</td>\n",
       "      <td>0</td>\n",
       "      <td>0</td>\n",
       "      <td>0</td>\n",
       "      <td>0</td>\n",
       "      <td>0</td>\n",
       "      <td>0</td>\n",
       "      <td>0</td>\n",
       "      <td>0</td>\n",
       "      <td>0</td>\n",
       "      <td>0</td>\n",
       "      <td>0</td>\n",
       "    </tr>\n",
       "    <tr>\n",
       "      <th>3</th>\n",
       "      <td>Y</td>\n",
       "      <td>Turner, Baldwin and Rhodes</td>\n",
       "      <td>4.500</td>\n",
       "      <td>47000</td>\n",
       "      <td>240</td>\n",
       "      <td>2012-02-01</td>\n",
       "      <td>04/2012</td>\n",
       "      <td>75</td>\n",
       "      <td>1.0</td>\n",
       "      <td>43.0</td>\n",
       "      <td>688.0</td>\n",
       "      <td>B12</td>\n",
       "      <td>0.0</td>\n",
       "      <td>0.0</td>\n",
       "      <td>0.0</td>\n",
       "      <td>0</td>\n",
       "      <td>0</td>\n",
       "      <td>0</td>\n",
       "      <td>1</td>\n",
       "      <td>0</td>\n",
       "      <td>0</td>\n",
       "      <td>0</td>\n",
       "      <td>0</td>\n",
       "      <td>0</td>\n",
       "      <td>0</td>\n",
       "      <td>0</td>\n",
       "      <td>0</td>\n",
       "      <td>0</td>\n",
       "    </tr>\n",
       "    <tr>\n",
       "      <th>4</th>\n",
       "      <td>X</td>\n",
       "      <td>OTHER</td>\n",
       "      <td>4.875</td>\n",
       "      <td>177000</td>\n",
       "      <td>360</td>\n",
       "      <td>2012-01-01</td>\n",
       "      <td>03/2012</td>\n",
       "      <td>80</td>\n",
       "      <td>2.0</td>\n",
       "      <td>13.0</td>\n",
       "      <td>675.0</td>\n",
       "      <td>C86</td>\n",
       "      <td>0.0</td>\n",
       "      <td>672.0</td>\n",
       "      <td>0.0</td>\n",
       "      <td>0</td>\n",
       "      <td>0</td>\n",
       "      <td>0</td>\n",
       "      <td>0</td>\n",
       "      <td>0</td>\n",
       "      <td>0</td>\n",
       "      <td>0</td>\n",
       "      <td>0</td>\n",
       "      <td>0</td>\n",
       "      <td>0</td>\n",
       "      <td>0</td>\n",
       "      <td>0</td>\n",
       "      <td>0</td>\n",
       "    </tr>\n",
       "  </tbody>\n",
       "</table>\n",
       "</div>"
      ],
      "text/plain": [
       "  source       financial_institution  interest_rate  unpaid_principal_bal  \\\n",
       "0      Y    Martinez, Duffy and Bird          3.375                272000   \n",
       "1      Y  Swanson, Newton and Miller          4.250                371000   \n",
       "2      Y                       OTHER          4.500                 90000   \n",
       "3      Y  Turner, Baldwin and Rhodes          4.500                 47000   \n",
       "4      X                       OTHER          4.875                177000   \n",
       "\n",
       "   loan_term origination_date first_payment_date  loan_to_value  \\\n",
       "0        180       2012-01-01            03/2012             72   \n",
       "1        360       2012-01-01            03/2012             95   \n",
       "2        360       2012-01-01            03/2012             69   \n",
       "3        240       2012-02-01            04/2012             75   \n",
       "4        360       2012-01-01            03/2012             80   \n",
       "\n",
       "   number_of_borrowers  debt_to_income_ratio  borrower_credit_score  \\\n",
       "0                  2.0                  31.0                  770.0   \n",
       "1                  1.0                  45.0                  727.0   \n",
       "2                  1.0                  39.0                  726.0   \n",
       "3                  1.0                  43.0                  688.0   \n",
       "4                  2.0                  13.0                  675.0   \n",
       "\n",
       "  loan_purpose  insurance_percent  co-borrower_credit_score  insurance_type  \\\n",
       "0          B12                0.0                     786.0             0.0   \n",
       "1          C86               30.0                       0.0             0.0   \n",
       "2          B12                0.0                       0.0             0.0   \n",
       "3          B12                0.0                       0.0             0.0   \n",
       "4          C86                0.0                     672.0             0.0   \n",
       "\n",
       "   m1  m2  m3  m4  m5  m6  m7  m8  m9  m10  m11  m12  m13  \n",
       "0   0   0   0   0   0   0   0   0   0    0    0    0    0  \n",
       "1   0   0   0   0   0   0   0   0   0    0    0    0    0  \n",
       "2   0   0   0   0   0   0   0   0   0    0    0    0    0  \n",
       "3   0   0   0   1   0   0   0   0   0    0    0    0    0  \n",
       "4   0   0   0   0   0   0   0   0   0    0    0    0    0  "
      ]
     },
     "execution_count": 2,
     "metadata": {},
     "output_type": "execute_result"
    }
   ],
   "source": [
    "# reading the datasets\n",
    "df_train = pd.read_csv('../input/loan-delinquency-prediction/train.csv').drop(['Unnamed: 0','loan_id'], axis = 1)\n",
    "df_test = pd.read_csv('../input/loan-delinquency-prediction/test.csv').drop(['Unnamed: 0','loan_id'], axis = 1)\n",
    "df_sub = pd.read_csv('../input/loan-delinquency-prediction/sample_submission.csv')\n",
    "df_train.head()"
   ]
  },
  {
   "cell_type": "code",
   "execution_count": 3,
   "metadata": {
    "execution": {
     "iopub.execute_input": "2021-03-06T18:18:12.444919Z",
     "iopub.status.busy": "2021-03-06T18:18:12.443999Z",
     "iopub.status.idle": "2021-03-06T18:18:12.449249Z",
     "shell.execute_reply": "2021-03-06T18:18:12.448592Z"
    },
    "papermill": {
     "duration": 0.039606,
     "end_time": "2021-03-06T18:18:12.449397",
     "exception": false,
     "start_time": "2021-03-06T18:18:12.409791",
     "status": "completed"
    },
    "tags": []
   },
   "outputs": [
    {
     "name": "stdout",
     "output_type": "stream",
     "text": [
      "Number of features in the Training Dataset : 28\n",
      "Number of features in the Training Dataset : 27\n"
     ]
    }
   ],
   "source": [
    "# Number of features in the Dataset\n",
    "\n",
    "print(\"Number of features in the Training Dataset :\", len(df_train.columns))\n",
    "print(\"Number of features in the Training Dataset :\", len(df_test.columns))"
   ]
  },
  {
   "cell_type": "code",
   "execution_count": 4,
   "metadata": {
    "execution": {
     "iopub.execute_input": "2021-03-06T18:18:12.515326Z",
     "iopub.status.busy": "2021-03-06T18:18:12.514588Z",
     "iopub.status.idle": "2021-03-06T18:18:12.519179Z",
     "shell.execute_reply": "2021-03-06T18:18:12.519770Z"
    },
    "papermill": {
     "duration": 0.040872,
     "end_time": "2021-03-06T18:18:12.519962",
     "exception": false,
     "start_time": "2021-03-06T18:18:12.479090",
     "status": "completed"
    },
    "tags": []
   },
   "outputs": [
    {
     "name": "stdout",
     "output_type": "stream",
     "text": [
      "\n",
      "No of features in the Training Dataset =  28\n",
      "\n",
      "Features in the Training Dataset : \n",
      "\n",
      " ['source', 'financial_institution', 'interest_rate', 'unpaid_principal_bal', 'loan_term', 'origination_date', 'first_payment_date', 'loan_to_value', 'number_of_borrowers', 'debt_to_income_ratio', 'borrower_credit_score', 'loan_purpose', 'insurance_percent', 'co-borrower_credit_score', 'insurance_type', 'm1', 'm2', 'm3', 'm4', 'm5', 'm6', 'm7', 'm8', 'm9', 'm10', 'm11', 'm12', 'm13']\n"
     ]
    }
   ],
   "source": [
    "#checking the features in the Dataset\n",
    "print(\"\\nNo of features in the Training Dataset = \", len(df_train.columns))\n",
    "print(\"\\nFeatures in the Training Dataset : \\n\\n\", list(df_train.columns))"
   ]
  },
  {
   "cell_type": "code",
   "execution_count": 5,
   "metadata": {
    "execution": {
     "iopub.execute_input": "2021-03-06T18:18:12.592206Z",
     "iopub.status.busy": "2021-03-06T18:18:12.591148Z",
     "iopub.status.idle": "2021-03-06T18:18:12.596990Z",
     "shell.execute_reply": "2021-03-06T18:18:12.596385Z"
    },
    "papermill": {
     "duration": 0.046272,
     "end_time": "2021-03-06T18:18:12.597180",
     "exception": false,
     "start_time": "2021-03-06T18:18:12.550908",
     "status": "completed"
    },
    "tags": []
   },
   "outputs": [
    {
     "name": "stdout",
     "output_type": "stream",
     "text": [
      " Datatypes of features in the training dataset :\n",
      " --------------------------------------------- \n",
      " source                       object\n",
      "financial_institution        object\n",
      "interest_rate               float64\n",
      "unpaid_principal_bal          int64\n",
      "loan_term                     int64\n",
      "origination_date             object\n",
      "first_payment_date           object\n",
      "loan_to_value                 int64\n",
      "number_of_borrowers         float64\n",
      "debt_to_income_ratio        float64\n",
      "borrower_credit_score       float64\n",
      "loan_purpose                 object\n",
      "insurance_percent           float64\n",
      "co-borrower_credit_score    float64\n",
      "insurance_type              float64\n",
      "m1                            int64\n",
      "m2                            int64\n",
      "m3                            int64\n",
      "m4                            int64\n",
      "m5                            int64\n",
      "m6                            int64\n",
      "m7                            int64\n",
      "m8                            int64\n",
      "m9                            int64\n",
      "m10                           int64\n",
      "m11                           int64\n",
      "m12                           int64\n",
      "m13                           int64\n",
      "dtype: object\n"
     ]
    }
   ],
   "source": [
    "#checking the data types of features in training  data\n",
    "print(\" Datatypes of features in the training dataset :\\n\",'-' * 45,\"\\n\", df_train.dtypes)"
   ]
  },
  {
   "cell_type": "code",
   "execution_count": 6,
   "metadata": {
    "execution": {
     "iopub.execute_input": "2021-03-06T18:18:12.668223Z",
     "iopub.status.busy": "2021-03-06T18:18:12.667410Z",
     "iopub.status.idle": "2021-03-06T18:18:12.671971Z",
     "shell.execute_reply": "2021-03-06T18:18:12.671320Z"
    },
    "papermill": {
     "duration": 0.043406,
     "end_time": "2021-03-06T18:18:12.672153",
     "exception": false,
     "start_time": "2021-03-06T18:18:12.628747",
     "status": "completed"
    },
    "tags": []
   },
   "outputs": [
    {
     "name": "stdout",
     "output_type": "stream",
     "text": [
      " Number of observations in the Training Dataset : 92846\n",
      " Number of observations in the Test Dataset : 23212\n"
     ]
    }
   ],
   "source": [
    "#checking the number of rows\n",
    "print(\" Number of observations in the Training Dataset :\",len(df_train))\n",
    "print(\" Number of observations in the Test Dataset :\",len(df_test))"
   ]
  },
  {
   "cell_type": "code",
   "execution_count": 7,
   "metadata": {
    "execution": {
     "iopub.execute_input": "2021-03-06T18:18:12.800646Z",
     "iopub.status.busy": "2021-03-06T18:18:12.798541Z",
     "iopub.status.idle": "2021-03-06T18:18:12.831224Z",
     "shell.execute_reply": "2021-03-06T18:18:12.831970Z"
    },
    "papermill": {
     "duration": 0.12735,
     "end_time": "2021-03-06T18:18:12.832269",
     "exception": false,
     "start_time": "2021-03-06T18:18:12.704919",
     "status": "completed"
    },
    "tags": []
   },
   "outputs": [
    {
     "name": "stdout",
     "output_type": "stream",
     "text": [
      "Null Values in the training dataset fetures:  False\n",
      "Null Values in the test dataset features:  False\n"
     ]
    }
   ],
   "source": [
    "# checking if there are any NaN values in the train and test dataset\n",
    "print(\"Null Values in the training dataset fetures: \", df_train.isnull().values.any())\n",
    "print(\"Null Values in the test dataset features: \", df_test.isnull().values.any())"
   ]
  },
  {
   "cell_type": "code",
   "execution_count": 8,
   "metadata": {
    "execution": {
     "iopub.execute_input": "2021-03-06T18:18:12.919638Z",
     "iopub.status.busy": "2021-03-06T18:18:12.918918Z",
     "iopub.status.idle": "2021-03-06T18:18:12.942596Z",
     "shell.execute_reply": "2021-03-06T18:18:12.943388Z"
    },
    "papermill": {
     "duration": 0.072438,
     "end_time": "2021-03-06T18:18:12.943653",
     "exception": false,
     "start_time": "2021-03-06T18:18:12.871215",
     "status": "completed"
    },
    "tags": []
   },
   "outputs": [],
   "source": [
    "# making a list of categorical and numerical columns\n",
    "category_columns=df_train.select_dtypes(include=['object']).columns.tolist()\n",
    "numeric_columns=df_train.select_dtypes(exclude=['object']).columns.tolist()"
   ]
  },
  {
   "cell_type": "code",
   "execution_count": 9,
   "metadata": {
    "execution": {
     "iopub.execute_input": "2021-03-06T18:18:13.033186Z",
     "iopub.status.busy": "2021-03-06T18:18:13.032142Z",
     "iopub.status.idle": "2021-03-06T18:18:13.170631Z",
     "shell.execute_reply": "2021-03-06T18:18:13.169952Z"
    },
    "papermill": {
     "duration": 0.191413,
     "end_time": "2021-03-06T18:18:13.170811",
     "exception": false,
     "start_time": "2021-03-06T18:18:12.979398",
     "status": "completed"
    },
    "tags": []
   },
   "outputs": [
    {
     "name": "stdout",
     "output_type": "stream",
     "text": [
      "Unique valeus in source column =  3\n",
      "Unique valeus in financial_institution column =  19\n",
      "Unique valeus in interest_rate column =  813\n",
      "Unique valeus in unpaid_principal_bal column =  637\n",
      "Unique valeus in loan_term column =  127\n",
      "Unique valeus in origination_date column =  3\n",
      "Unique valeus in first_payment_date column =  4\n",
      "Unique valeus in loan_to_value column =  92\n",
      "Unique valeus in number_of_borrowers column =  2\n",
      "Unique valeus in debt_to_income_ratio column =  57\n",
      "Unique valeus in borrower_credit_score column =  219\n",
      "Unique valeus in loan_purpose column =  3\n",
      "Unique valeus in insurance_percent column =  13\n",
      "Unique valeus in co-borrower_credit_score column =  216\n",
      "Unique valeus in insurance_type column =  2\n",
      "Unique valeus in m1 column =  4\n",
      "Unique valeus in m2 column =  4\n",
      "Unique valeus in m3 column =  5\n",
      "Unique valeus in m4 column =  5\n",
      "Unique valeus in m5 column =  7\n",
      "Unique valeus in m6 column =  7\n",
      "Unique valeus in m7 column =  8\n",
      "Unique valeus in m8 column =  9\n",
      "Unique valeus in m9 column =  10\n",
      "Unique valeus in m10 column =  11\n",
      "Unique valeus in m11 column =  12\n",
      "Unique valeus in m12 column =  12\n",
      "Unique valeus in m13 column =  2\n"
     ]
    }
   ],
   "source": [
    "# No of unique values in the all the columns\n",
    "for cols in df_train.columns:\n",
    "    print('Unique valeus in',cols,'column = ',df_train[cols].nunique())    "
   ]
  },
  {
   "cell_type": "markdown",
   "metadata": {
    "papermill": {
     "duration": 0.03293,
     "end_time": "2021-03-06T18:18:13.236510",
     "exception": false,
     "start_time": "2021-03-06T18:18:13.203580",
     "status": "completed"
    },
    "tags": []
   },
   "source": [
    "We can see that all the columns are discrete and except four, all the columns have less than 20 value types."
   ]
  },
  {
   "cell_type": "code",
   "execution_count": 10,
   "metadata": {
    "execution": {
     "iopub.execute_input": "2021-03-06T18:18:13.313915Z",
     "iopub.status.busy": "2021-03-06T18:18:13.313183Z",
     "iopub.status.idle": "2021-03-06T18:18:13.400851Z",
     "shell.execute_reply": "2021-03-06T18:18:13.399834Z"
    },
    "papermill": {
     "duration": 0.131517,
     "end_time": "2021-03-06T18:18:13.401078",
     "exception": false,
     "start_time": "2021-03-06T18:18:13.269561",
     "status": "completed"
    },
    "tags": []
   },
   "outputs": [
    {
     "name": "stdout",
     "output_type": "stream",
     "text": [
      "categories in source column =  ['Y' 'X' 'Z'] \n",
      "\n",
      "categories in financial_institution column =  ['Martinez, Duffy and Bird' 'Swanson, Newton and Miller' 'OTHER'\n",
      " 'Turner, Baldwin and Rhodes' 'Browning-Hart'\n",
      " 'Sanchez, Hays and Wilkerson' 'Anderson-Taylor'\n",
      " 'Cole, Brooks and Vincent' 'Nicholson Group' 'Miller, Mcclure and Allen'\n",
      " 'Edwards-Hoffman' 'Romero, Woods and Johnson' 'Suarez Inc'\n",
      " 'Taylor, Hunt and Rodriguez' 'Chapman-Mcmahon' 'Richardson Ltd'\n",
      " 'Richards-Walters' 'Sanchez-Robinson' 'Thornton-Davis'] \n",
      "\n",
      "categories in interest_rate column =  [3.375 4.25  4.5   4.875 3.875 4.    3.75  4.75  4.125 4.375 3.5   3.125\n",
      " 3.25  3.625 3.31  3.3   3.    3.853 3.276 4.625 3.99  2.875 2.75  3.9\n",
      " 5.    3.369 5.25  5.04  3.865 3.97  4.21  3.33  3.96  3.95  4.188 2.92\n",
      " 3.98  3.83  2.5   3.1   4.1   3.85  5.625 3.42  5.125 3.94  4.126 4.368\n",
      " 4.99  3.7   3.385 3.861 4.49  5.375 5.5   3.958 3.8   3.56  4.405 4.3\n",
      " 4.2   3.82  3.35  3.47  4.09  3.916 3.858 3.503 2.99  2.88  3.498 4.075\n",
      " 4.544 3.2   3.273 3.864 4.115 3.955 4.04  2.375 4.06  4.187 4.46  3.145\n",
      " 3.343 3.58  4.28  3.54  3.856 3.28  3.43  4.19  3.938 3.48  3.978 3.41\n",
      " 3.69  6.5   2.9   4.499 2.925 3.39  3.242 3.6   3.379 4.03  3.914 4.34\n",
      " 3.71  3.925 3.782 3.404 3.44  3.897 3.248 4.33  3.999 4.54  4.236 3.49\n",
      " 4.29  4.15  3.921 4.27  3.762 3.713 3.486 3.15  2.975 3.363 3.771 3.904\n",
      " 3.708 3.359 3.493 4.178 2.931 3.728 4.35  3.871 4.062 5.875 4.242 5.18\n",
      " 3.23  4.05  3.727 3.46  4.019 3.84  3.463 3.525 4.175 3.695 3.788 3.989\n",
      " 2.825 4.17  3.238 3.79  4.58  4.299 4.385 3.939 3.29  4.013 4.451 4.825\n",
      " 3.66  3.855 3.819 2.95  3.4   3.581 4.53  3.756 3.45  4.43  3.438 2.79\n",
      " 4.775 3.795 4.045 3.93  3.67  3.73  3.19  4.32  3.74  4.053 3.922 3.65\n",
      " 4.973 3.348 4.4   3.215 3.24  4.42  3.944 3.751 2.8   3.155 2.965 4.023\n",
      " 3.913 4.502 3.834 3.738 3.775 4.792 3.72  3.906 3.283 2.945 3.976 3.89\n",
      " 3.289 3.961 3.721 3.185 4.47  3.474 3.936 3.984 4.367 3.77  4.358 4.08\n",
      " 3.171 3.287 3.228 3.415 3.59  3.392 3.81  3.967 3.78  4.606 3.653 3.449\n",
      " 3.55  4.44  3.979 3.813 3.966 3.479 2.85  2.856 3.919 4.231 3.167 4.046\n",
      " 3.437 3.863 4.67  3.752 3.401 3.389 4.055 3.943 4.41  3.329 3.052 4.45\n",
      " 3.485 3.92  3.606 4.344 3.88  3.393 4.597 3.63  4.127 4.562 5.14  4.465\n",
      " 3.881 4.066 2.93  4.276 5.75  3.654 4.372 3.851 3.975 3.589 4.31  2.81\n",
      " 4.325 4.086 4.394 4.69  6.    4.254 3.515 3.804 3.935 4.015 3.344 3.487\n",
      " 3.884 4.9   3.965 3.854 3.902 4.477 3.893 3.91  3.34  4.615 3.948 4.101\n",
      " 4.269 3.17  3.985 3.257 3.697 3.839 3.21  3.842 3.824 4.408 3.475 3.002\n",
      " 4.281 3.825 3.779 4.312 3.725 3.662 3.715 3.885 3.323 3.313 2.847 3.22\n",
      " 3.191 3.255 5.325 4.543 4.542 3.894 3.941 3.403 4.222 4.201 3.959 4.051\n",
      " 3.365 3.13  2.625 4.609 3.987 4.257 4.225 3.868 3.337 4.213 4.506 3.308\n",
      " 4.87  3.918 3.659 3.671 3.611 3.377 3.694 3.895 3.896 4.362 4.334 3.805\n",
      " 3.812 4.259 4.326 4.391 5.483 4.392 4.169 3.102 3.333 4.103 4.012 4.063\n",
      " 3.405 3.295 3.199 3.249 3.923 4.387 3.971 3.846 3.396 3.225 3.847 4.124\n",
      " 4.896 3.226 3.574 2.775 3.288 3.947 3.993 3.968 4.196 3.36  3.852 4.495\n",
      " 6.625 4.428 3.977 3.836 3.425 4.02  3.094 4.025 5.101 4.98  3.693 3.426\n",
      " 4.629 3.545 3.07  4.022 3.454 3.743 4.128 4.217 4.336 4.669 4.454 3.783\n",
      " 4.256 3.759 3.982 3.729 3.997 4.031 3.799 5.21  3.236 3.241 3.932 3.87\n",
      " 4.176 3.275 3.744 3.674 3.887 4.273 3.988 3.827 5.08  3.983 2.997 3.458\n",
      " 4.093 4.445 3.675 3.212 4.01  3.491 3.246 3.718 4.917 3.857 4.094 4.338\n",
      " 3.266 4.645 3.933 3.294 3.53  3.373 3.746 3.319 3.186 4.892 3.873 3.951\n",
      " 4.207 3.025 4.24  3.096 4.406 3.175 3.632 3.374 4.032 3.466 3.823 4.033\n",
      " 3.05  3.764 3.391 3.835 4.092 4.042 3.326 4.216 4.56  3.299 2.25  4.482\n",
      " 4.55  4.146 3.928 3.567 3.045 3.341 3.364 4.374 3.741 3.381 4.11  3.633\n",
      " 4.361 4.489 4.264 4.459 3.68  3.635 3.869 3.564 3.822 3.207 5.28  3.677\n",
      " 3.422 3.292 3.909 2.83  4.195 5.021 3.874 4.97  3.755 3.134 4.274 3.661\n",
      " 3.042 3.08  3.945 3.953 3.184 3.859 3.229 4.095 3.786 3.111 4.204 4.66\n",
      " 3.259 3.321 4.028 3.04  3.252 3.075 3.681 4.208 4.417 3.013 3.722 3.845\n",
      " 3.86  4.16  5.34  4.456 3.178 3.126 3.356 3.131 3.247 4.253 3.332 3.239\n",
      " 4.106 4.318 4.071 3.399 5.403 3.501 3.957 3.899 3.832 3.056 4.181 3.413\n",
      " 4.79  4.93  3.796 3.784 3.981 3.877 4.401 3.305 3.826 3.177 4.097 3.592\n",
      " 5.097 3.531 4.287 2.862 4.876 4.438 4.95  3.147 4.185 4.109 3.878 4.089\n",
      " 3.427 3.905 4.073 3.903 4.308 3.613 4.911 4.479 3.998 3.964 3.931 4.22\n",
      " 3.949 3.27  3.09  3.451 3.619 3.952 4.083 3.351 3.488 3.768 3.876 4.356\n",
      " 3.367 4.078 4.852 3.609 3.915 3.942 3.621 4.255 3.071 3.673 4.027 3.066\n",
      " 4.473 3.569 4.696 4.119 5.43  3.118 4.057 3.37  3.334 5.03  3.464 3.866\n",
      " 3.963 3.838 3.078 4.521 3.802 3.872 3.465 4.85  3.455 4.282 4.006 3.841\n",
      " 4.363 3.551 3.424 3.508 3.414 3.837 4.104 3.886 5.127 3.338 4.446 3.195\n",
      " 4.018 3.757 2.999 4.96  4.235 3.18  4.345 4.83  3.02  3.452 2.91  4.486\n",
      " 3.688 4.805 3.51  3.219 3.008 3.862 4.084 3.844 3.765 3.431 3.261 3.731\n",
      " 3.448 4.289 3.214 3.911 3.446 4.478 4.258 3.222 4.173 4.137 4.84  3.974\n",
      " 3.973 4.463 3.917 3.647 3.849 3.074 4.082 4.016 4.81  6.75  2.916 3.237\n",
      " 3.986 3.502 3.325 4.229 4.396 4.26  3.073 3.302 3.934 3.624 5.103 4.151\n",
      " 3.077 2.725 4.679 3.335 6.25  4.849 3.689 3.331 3.898 3.281 3.76  3.596\n",
      " 4.211 3.994 4.13  3.342 3.428 4.48  4.043 3.031 2.977 4.404 4.91  4.158\n",
      " 2.779 4.068 4.815 3.499 4.485 4.038 4.71  2.897 3.327 3.188 3.26  2.98\n",
      " 3.912 4.088 4.029 3.709 3.166 4.59  3.471 3.745 4.986 3.362 4.303 2.895\n",
      " 3.969 3.686 5.56  3.605 5.47  3.638 3.962 3.747 4.864 3.576 3.232 3.552\n",
      " 4.286 4.117 3.937 4.541 3.792 3.991 3.355 3.901 3.737] \n",
      "\n",
      "categories in unpaid_principal_bal column =  [272000 371000  90000  47000 177000 168000 100000 194000 415000 200000\n",
      " 105000 333000 417000  64000 341000 390000 160000 124000 110000  88000\n",
      " 403000 360000 135000  63000 380000 275000 226000 392000  37000 225000\n",
      " 410000 383000 204000 405000 175000 312000 133000 276000 146000  75000\n",
      " 300000 126000 131000  86000 209000  85000 282000 174000 164000 396000\n",
      " 144000 299000 260000 123000  50000 117000 237000 121000 280000  60000\n",
      " 170000 152000 350000  73000 122000 244000 240000 359000 270000  53000\n",
      " 257000 222000 157000 115000 195000 150000 328000 305000 125000 109000\n",
      " 187000  56000 414000 201000  68000 183000 145000  93000 196000 178000\n",
      " 366000 277000 205000 375000 254000 386000 315000 186000 208000 232000\n",
      " 190000 169000  96000  45000 112000 188000 116000 286000 297000 148000\n",
      " 184000 171000 351000  70000  83000 394000 140000 107000  98000 499000\n",
      " 255000 128000 161000 165000  87000 261000 172000 580000 173000 401000\n",
      " 273000 132000 536000 404000 241000 313000 324000 267000  67000 197000\n",
      " 258000 319000 252000 180000 407000  55000 320000 288000 120000 400000\n",
      " 356000 264000  95000 271000 130000 134000 239000 316000 284000 389000\n",
      " 384000  72000 153000 127000  79000  71000 137000 295000 227000 233000\n",
      " 181000  59000  43000 304000 154000  97000 179000 118000 385000 216000\n",
      "  44000 192000 250000 202000  82000 101000 102000 185000 162000 353000\n",
      " 111000 199000 355000 213000 345000 253000 167000 215000 119000 336000\n",
      " 248000  66000 448000 182000 373000 247000 348000 346000 234000 193000\n",
      " 156000 268000 376000 298000 496000 274000 374000 285000  91000 245000\n",
      "  77000 406000 378000 104000 166000 540000 263000 335000 256000 224000\n",
      " 309000 214000 283000  62000 206000 242000 465000 464000 413000 108000\n",
      "  24000  94000 220000 290000  58000 163000  54000 445000 218000 368000\n",
      " 334000 212000 191000 303000 308000 159000 141000  84000 365000 311000\n",
      "  80000  78000 189000 243000 327000 211000 347000 136000 158000 155000\n",
      " 129000 325000 238000 306000 176000 354000 343000  61000 527000 139000\n",
      " 114000 210000  34000 143000 266000 318000 626000  57000  76000 217000\n",
      " 103000 399000 364000 149000  81000 235000 292000 409000 352000 151000\n",
      " 279000 142000  30000 314000 223000 370000 330000 262000 603000 246000\n",
      " 106000 228000 564000 408000 113000 203000  35000  69000  92000 521000\n",
      " 560000  65000 259000 230000 538000 363000 251000 331000 344000 302000\n",
      " 147000 289000 265000  89000 219000 323000 367000 377000 329000 533000\n",
      " 443000 530000 479000 296000  38000 382000 332000 475000 326000 412000\n",
      " 340000 281000 198000 229000  51000 534000  52000 548000 455000 489000\n",
      " 510000 493000 349000 207000 236000 269000 591000  74000 512000 342000\n",
      "  40000 402000 361000 310000 398000 645000 388000 447000  48000 625000\n",
      " 322000 495000  42000 397000 138000 249000 429000 490000 546000 503000\n",
      " 436000  49000 428000 278000 600000 294000 485000 450000 362000 515000\n",
      " 608000  41000 452000 393000 529000 570000 358000 369000 287000 545000\n",
      " 539000 411000 339000  39000 563000 520000 477000 541000 231000 460000\n",
      " 720000  46000 610000 338000  99000 553000  33000 221000 440000 550000\n",
      "  28000  25000 525000  29000 291000 416000 293000 391000 532000 617000\n",
      "  36000 307000 468000 387000  32000 523000 585000 372000 508000 547000\n",
      " 379000 506000  31000 592000  26000 459000 620000 317000 381000 442000\n",
      " 492000 551000 321000 471000 337000 528000 577000 446000 623000 562000\n",
      " 467000 432000 543000 357000 537000 469000 470000 301000 498000 462000\n",
      " 604000 466000 458000 576000 555000 482000 500000 444000 602000 395000\n",
      " 517000 504000 561000 569000 425000 454000 483000 571000 567000 606000\n",
      " 598000 431000 605000 575000 614000 665000 513000 579000 494000 588000\n",
      " 590000 480000 742000 558000 457000 522000  19000 549000 435000 463000\n",
      " 474000 486000 526000 478000 473000 556000 542000 596000 554000 476000\n",
      " 484000 587000 439000 509000 552000 565000 599000 524000 593000 456000\n",
      " 616000 609000 519000 595000 449000 611000 566000 680000 487000 488000\n",
      " 582000 424000  14000  27000 505000 586000  17000 481000  23000 453000\n",
      " 472000 557000 427000 619000 451000 583000 535000 794000 594000 568000\n",
      " 544000 516000 433000 518000 615000 559000 511000 607000 621000 514000\n",
      " 438000 420000 501000 502000  16000 578000 613000 461000 689000 574000\n",
      " 622000 491000 612000 437000 441000 624000 419000  20000 434000 915000\n",
      " 430000 584000  18000 597000 497000 601000 572000  21000 686000 531000\n",
      " 618000 573000 418000 635000  22000 642000 715000 423000 750000 705000\n",
      " 707000 507000 426000 581000 791000 421000 721000  15000 727000 718000\n",
      " 672000 422000 639000 640000 685000 802000 632000] \n",
      "\n",
      "categories in loan_term column =  [180 360 240 120 300  84 144 330  96 355  87 156 336 318 324 108 258 312\n",
      " 331 169 352 168 153  72 173 327 216 121 210 154 163 192 276 349 252 142\n",
      " 348  94 260 264  60 340 344  86 162 161 160 159 165 345 132 150 228 326\n",
      " 335  85 328 152 278 137 359 288 166 177 241 148 102 164 307 334 332 157\n",
      " 141 353 115 178 319 280 290  89 134 338 263  91 277 135 347 146 322 308\n",
      " 333 325 339 275 110  78 314 171  93 204  83 329 270 170 342 158  71 358\n",
      " 138 354 341 172 223  82 274 107 140 145 303 219 343  77 147 267  81 167\n",
      " 155] \n",
      "\n",
      "categories in origination_date column =  ['2012-01-01' '2012-02-01' '2012-03-01'] \n",
      "\n",
      "categories in first_payment_date column =  ['03/2012' '04/2012' '05/2012' '02/2012'] \n",
      "\n",
      "categories in loan_to_value column =  [72 95 69 75 80 87 49 73 77 21 68 65 70 71 63 78 97 52 90 50 83 79 39 57\n",
      " 40 84 10 59 64 30 33 60 34 67 26 85 27 61 55 45 54 38 56 47 32 76 15 66\n",
      " 58 74 51 82 37 92 93 62 31 11 48 86 43 42 46 44 19 89 35 22 23 53 94 36\n",
      " 24 91 17 88 41 29 18  9 25 20 14 16 12 13 28  8 81  7 96  6] \n",
      "\n",
      "categories in number_of_borrowers column =  [2. 1.] \n",
      "\n",
      "categories in debt_to_income_ratio column =  [31. 45. 39. 43. 13. 24. 40. 42. 28. 23. 38. 44. 41. 35. 25. 19. 21. 33.\n",
      " 30. 32. 27.  7. 18. 36. 34. 16.  5. 26. 22. 11. 17. 20. 29. 14. 37. 49.\n",
      " 15. 47. 48. 46. 12.  9. 10. 50.  3.  6.  4.  8.  2. 51. 64.  1. 53. 61.\n",
      " 58. 55. 52.] \n",
      "\n",
      "categories in borrower_credit_score column =  [770. 727. 726. 688. 675. 744. 817. 798. 792. 793. 706. 786. 765. 769.\n",
      " 790. 810. 717. 742. 677. 730. 739. 820. 794. 761. 758. 723. 804. 774.\n",
      " 800. 801. 773. 797. 782. 805. 796. 816. 788. 716. 784. 809. 807. 746.\n",
      " 791. 802. 778. 806. 701. 824. 767. 785. 808. 811. 665. 772. 684. 813.\n",
      " 715. 722. 754. 745. 812. 708. 818. 764. 787. 681. 697. 771. 779. 766.\n",
      " 655. 685. 775. 814. 795. 749. 799. 777. 803. 776. 713. 757. 768. 753.\n",
      " 634. 711. 724. 666. 755. 705. 789. 762. 783. 640. 692. 780. 714. 741.\n",
      " 738. 737. 751. 756. 719. 731. 743. 699. 661. 700. 704. 703. 819. 763.\n",
      " 725. 632. 687. 682. 709. 760. 698. 691. 736. 680. 823. 693. 759. 815.\n",
      " 712. 734. 672. 710. 702. 728. 750. 695. 747. 658. 664. 729. 707. 733.\n",
      " 654. 826. 679. 648. 663. 732. 673. 621. 781. 690. 752. 650. 624. 822.\n",
      " 735. 721. 686. 694. 718. 676. 631. 748. 720. 662. 678. 671. 625. 641.\n",
      " 683. 670. 740.   0. 660. 652. 636. 828. 696. 689. 669. 821. 829. 657.\n",
      " 668. 630. 667. 628. 633. 659. 643. 645. 649. 626. 623. 638. 642. 644.\n",
      " 825. 620. 647. 674. 656. 651. 637. 629. 830. 653. 635. 646. 833. 627.\n",
      " 832. 622. 827. 639. 619. 834. 831. 840. 838.] \n",
      "\n",
      "categories in loan_purpose column =  ['B12' 'C86' 'A23'] \n",
      "\n",
      "categories in insurance_percent column =  [ 0. 30. 25. 35.  6. 12. 18. 16. 20. 22. 40. 17. 39.] \n",
      "\n",
      "categories in co-borrower_credit_score column =  [786.   0. 672. 811. 793. 698. 797. 737. 800. 680. 733. 724. 694. 789.\n",
      " 766. 756. 729. 813. 769. 772. 788. 725. 752. 755. 808. 798. 802. 722.\n",
      " 762. 760. 803. 785. 709. 773. 812. 681. 815. 684. 643. 779. 776. 783.\n",
      " 732. 703. 781. 792. 806. 734. 816. 814. 689. 768. 804. 809. 790. 794.\n",
      " 697. 751. 691. 778. 805. 770. 662. 718. 753. 765. 801. 782. 791. 810.\n",
      " 763. 799. 735. 784. 754. 764. 761. 707. 795. 741. 675. 704. 818. 715.\n",
      " 777. 758. 731. 787. 739. 807. 774. 767. 749. 686. 723. 727. 706. 757.\n",
      " 747. 696. 701. 712. 658. 743. 685. 702. 745. 726. 759. 750. 740. 713.\n",
      " 682. 775. 720. 744. 705. 822. 719. 817. 730. 823. 690. 796. 673. 664.\n",
      " 742. 711. 820. 661. 780. 771. 736. 738. 819. 721. 647. 641. 655. 699.\n",
      " 728. 678. 821. 716. 692. 650. 714. 688. 748. 687. 746. 700. 671. 667.\n",
      " 824. 695. 651. 669. 668. 670. 717. 825. 627. 666. 663. 630. 674. 637.\n",
      " 676. 642. 829. 623. 652. 621. 660. 644. 693. 683. 710. 654. 649. 632.\n",
      " 624. 659. 827. 646. 677. 708. 635. 665. 645. 648. 636. 679. 832. 656.\n",
      " 657. 622. 640. 826. 653. 830. 620. 633. 639. 634. 625. 638. 629. 626.\n",
      " 828. 628. 834. 631. 831. 836.] \n",
      "\n",
      "categories in insurance_type column =  [0. 1.] \n",
      "\n",
      "categories in m1 column =  [0 1 2 3] \n",
      "\n",
      "categories in m2 column =  [0 2 1 3] \n",
      "\n",
      "categories in m3 column =  [0 1 2 4 3] \n",
      "\n",
      "categories in m4 column =  [0 1 2 3 5] \n",
      "\n",
      "categories in m5 column =  [0 3 2 1 4 6 5] \n",
      "\n",
      "categories in m6 column =  [0 1 4 3 2 5 7] \n",
      "\n",
      "categories in m7 column =  [0 1 5 2 3 4 6 8] \n",
      "\n",
      "categories in m8 column =  [0 1 2 6 4 5 3 7 9] \n",
      "\n",
      "categories in m9 column =  [ 0  3  7  1  2  6  5  4  8 10] \n",
      "\n",
      "categories in m10 column =  [ 0  8  1  2  4  3  7  6  5  9 11] \n",
      "\n",
      "categories in m11 column =  [ 0  1  9  2  5  3  7  4  6 11  8 10] \n",
      "\n",
      "categories in m12 column =  [ 0  1 10  3  2  6  4  5  7  8 11  9] \n",
      "\n",
      "categories in m13 column =  [0 1] \n",
      "\n"
     ]
    }
   ],
   "source": [
    "# categories in the categorical columns\n",
    "for cols in df_train.columns:\n",
    "    print('categories in',cols,'column = ',df_train[cols].unique(),'\\n')    "
   ]
  },
  {
   "cell_type": "markdown",
   "metadata": {
    "papermill": {
     "duration": 0.034977,
     "end_time": "2021-03-06T18:18:13.471244",
     "exception": false,
     "start_time": "2021-03-06T18:18:13.436267",
     "status": "completed"
    },
    "tags": []
   },
   "source": [
    "Now we make a count plot of all the columns "
   ]
  },
  {
   "cell_type": "code",
   "execution_count": 11,
   "metadata": {
    "execution": {
     "iopub.execute_input": "2021-03-06T18:18:13.568694Z",
     "iopub.status.busy": "2021-03-06T18:18:13.567780Z",
     "iopub.status.idle": "2021-03-06T18:18:58.112369Z",
     "shell.execute_reply": "2021-03-06T18:18:58.112886Z"
    },
    "papermill": {
     "duration": 44.608396,
     "end_time": "2021-03-06T18:18:58.113093",
     "exception": false,
     "start_time": "2021-03-06T18:18:13.504697",
     "status": "completed"
    },
    "tags": []
   },
   "outputs": [
    {
     "data": {
      "image/png": "[encoded data removed]",
      "text/plain": [
       "<Figure size 1440x2880 with 28 Axes>"
      ]
     },
     "metadata": {
      "needs_background": "light"
     },
     "output_type": "display_data"
    }
   ],
   "source": [
    "# Count plot of all the columns\n",
    "fig = plt.figure(figsize=(20,40))\n",
    "for i, col in enumerate(df_train.columns):   \n",
    "    plt.subplot(7, 4, i+1)   \n",
    "    sns.countplot(x=col, data=df_train).set(xlabel=col)    \n",
    "plt.tight_layout()\n",
    "plt.show()\n",
    "plt.clf()\n",
    "plt.close('all')"
   ]
  },
  {
   "cell_type": "code",
   "execution_count": 12,
   "metadata": {
    "execution": {
     "iopub.execute_input": "2021-03-06T18:18:58.190928Z",
     "iopub.status.busy": "2021-03-06T18:18:58.190326Z",
     "iopub.status.idle": "2021-03-06T18:18:58.379213Z",
     "shell.execute_reply": "2021-03-06T18:18:58.379770Z"
    },
    "papermill": {
     "duration": 0.230043,
     "end_time": "2021-03-06T18:18:58.379982",
     "exception": false,
     "start_time": "2021-03-06T18:18:58.149939",
     "status": "completed"
    },
    "tags": []
   },
   "outputs": [
    {
     "name": "stdout",
     "output_type": "stream",
     "text": [
      "\n",
      "Value counts of source column\n",
      "------------------------------\n",
      "X    51067\n",
      "Y    30018\n",
      "Z    11761\n",
      "Name: source, dtype: int64\n",
      "\n",
      "Value counts of financial_institution column\n",
      "------------------------------\n",
      "OTHER                          39766\n",
      "Browning-Hart                  25536\n",
      "Swanson, Newton and Miller      5444\n",
      "Edwards-Hoffman                 3903\n",
      "Martinez, Duffy and Bird        3746\n",
      "Miller, Mcclure and Allen       2553\n",
      "Nicholson Group                 1733\n",
      "Turner, Baldwin and Rhodes      1480\n",
      "Suarez Inc                      1422\n",
      "Cole, Brooks and Vincent        1290\n",
      "Richards-Walters                1169\n",
      "Taylor, Hunt and Rodriguez       998\n",
      "Sanchez-Robinson                 956\n",
      "Sanchez, Hays and Wilkerson      679\n",
      "Romero, Woods and Johnson        596\n",
      "Thornton-Davis                   510\n",
      "Richardson Ltd                   384\n",
      "Anderson-Taylor                  377\n",
      "Chapman-Mcmahon                  304\n",
      "Name: financial_institution, dtype: int64\n",
      "\n",
      "Value counts of interest_rate column\n",
      "------------------------------\n",
      "3.875    16892\n",
      "4.000    11425\n",
      "3.250     7734\n",
      "3.750     6718\n",
      "4.125     6456\n",
      "         ...  \n",
      "3.589        1\n",
      "3.207        1\n",
      "4.876        1\n",
      "5.280        1\n",
      "4.127        1\n",
      "Name: interest_rate, Length: 813, dtype: int64\n",
      "\n",
      "Value counts of unpaid_principal_bal column\n",
      "------------------------------\n",
      "417000    2148\n",
      "100000    1116\n",
      "200000    1078\n",
      "150000     968\n",
      "120000     741\n",
      "          ... \n",
      "915000       1\n",
      "791000       1\n",
      "421000       1\n",
      "632000       1\n",
      "426000       1\n",
      "Name: unpaid_principal_bal, Length: 637, dtype: int64\n",
      "\n",
      "Value counts of loan_term column\n",
      "------------------------------\n",
      "360    57486\n",
      "180    22890\n",
      "120     5609\n",
      "240     5367\n",
      "300      750\n",
      "       ...  \n",
      "85         1\n",
      "339        1\n",
      "275        1\n",
      "147        1\n",
      "319        1\n",
      "Name: loan_term, Length: 127, dtype: int64\n",
      "\n",
      "Value counts of origination_date column\n",
      "------------------------------\n",
      "2012-02-01    41951\n",
      "2012-01-01    39235\n",
      "2012-03-01    11660\n",
      "Name: origination_date, dtype: int64\n",
      "\n",
      "Value counts of first_payment_date column\n",
      "------------------------------\n",
      "04/2012    42282\n",
      "03/2012    38138\n",
      "05/2012    12000\n",
      "02/2012      426\n",
      "Name: first_payment_date, dtype: int64\n",
      "\n",
      "Value counts of loan_to_value column\n",
      "------------------------------\n",
      "80    17883\n",
      "75     6591\n",
      "95     3525\n",
      "70     2739\n",
      "90     2620\n",
      "      ...  \n",
      "10       25\n",
      "8         9\n",
      "9         7\n",
      "7         7\n",
      "6         4\n",
      "Name: loan_to_value, Length: 92, dtype: int64\n",
      "\n",
      "Value counts of number_of_borrowers column\n",
      "------------------------------\n",
      "2.0    55019\n",
      "1.0    37827\n",
      "Name: number_of_borrowers, dtype: int64\n",
      "\n",
      "Value counts of debt_to_income_ratio column\n",
      "------------------------------\n",
      "44.0    3313\n",
      "43.0    3193\n",
      "42.0    3176\n",
      "30.0    3071\n",
      "31.0    3049\n",
      "28.0    3044\n",
      "41.0    3029\n",
      "40.0    3012\n",
      "29.0    3011\n",
      "26.0    3005\n",
      "39.0    2994\n",
      "37.0    2988\n",
      "27.0    2964\n",
      "36.0    2960\n",
      "32.0    2957\n",
      "35.0    2955\n",
      "34.0    2945\n",
      "33.0    2945\n",
      "38.0    2935\n",
      "25.0    2898\n",
      "24.0    2814\n",
      "45.0    2704\n",
      "22.0    2697\n",
      "23.0    2696\n",
      "21.0    2507\n",
      "20.0    2392\n",
      "19.0    2176\n",
      "18.0    1971\n",
      "17.0    1773\n",
      "16.0    1616\n",
      "15.0    1353\n",
      "14.0    1093\n",
      "13.0     998\n",
      "12.0     756\n",
      "47.0     665\n",
      "46.0     664\n",
      "49.0     626\n",
      "48.0     599\n",
      "11.0     586\n",
      "10.0     449\n",
      "50.0     433\n",
      "9.0      266\n",
      "8.0      196\n",
      "7.0      132\n",
      "6.0       86\n",
      "5.0       56\n",
      "4.0       36\n",
      "3.0       24\n",
      "2.0       16\n",
      "51.0       7\n",
      "1.0        5\n",
      "52.0       3\n",
      "53.0       2\n",
      "55.0       2\n",
      "64.0       1\n",
      "58.0       1\n",
      "61.0       1\n",
      "Name: debt_to_income_ratio, dtype: int64\n",
      "\n",
      "Value counts of borrower_credit_score column\n",
      "------------------------------\n",
      "809.0    1827\n",
      "801.0    1817\n",
      "802.0    1627\n",
      "808.0    1625\n",
      "791.0    1564\n",
      "         ... \n",
      "831.0       1\n",
      "838.0       1\n",
      "619.0       1\n",
      "833.0       1\n",
      "840.0       1\n",
      "Name: borrower_credit_score, Length: 219, dtype: int64\n",
      "\n",
      "Value counts of loan_purpose column\n",
      "------------------------------\n",
      "A23    46820\n",
      "B12    23463\n",
      "C86    22563\n",
      "Name: loan_purpose, dtype: int64\n",
      "\n",
      "Value counts of insurance_percent column\n",
      "------------------------------\n",
      "0.0     81932\n",
      "30.0     4141\n",
      "25.0     3902\n",
      "12.0     1973\n",
      "6.0       563\n",
      "35.0      306\n",
      "16.0       12\n",
      "18.0        9\n",
      "20.0        3\n",
      "17.0        2\n",
      "22.0        1\n",
      "40.0        1\n",
      "39.0        1\n",
      "Name: insurance_percent, dtype: int64\n",
      "\n",
      "Value counts of co-borrower_credit_score column\n",
      "------------------------------\n",
      "0.0      37864\n",
      "801.0     1251\n",
      "809.0     1197\n",
      "808.0     1165\n",
      "802.0     1105\n",
      "         ...  \n",
      "627.0        4\n",
      "831.0        2\n",
      "834.0        2\n",
      "832.0        2\n",
      "836.0        1\n",
      "Name: co-borrower_credit_score, Length: 216, dtype: int64\n",
      "\n",
      "Value counts of insurance_type column\n",
      "------------------------------\n",
      "0.0    92542\n",
      "1.0      304\n",
      "Name: insurance_type, dtype: int64\n",
      "\n",
      "Value counts of m1 column\n",
      "------------------------------\n",
      "0    92582\n",
      "1      236\n",
      "2       25\n",
      "3        3\n",
      "Name: m1, dtype: int64\n",
      "\n",
      "Value counts of m2 column\n",
      "------------------------------\n",
      "0    92671\n",
      "1      162\n",
      "2       10\n",
      "3        3\n",
      "Name: m2, dtype: int64\n",
      "\n",
      "Value counts of m3 column\n",
      "------------------------------\n",
      "0    92697\n",
      "1      133\n",
      "2       12\n",
      "4        3\n",
      "3        1\n",
      "Name: m3, dtype: int64\n",
      "\n",
      "Value counts of m4 column\n",
      "------------------------------\n",
      "0    92690\n",
      "1      136\n",
      "2       13\n",
      "3        6\n",
      "5        1\n",
      "Name: m4, dtype: int64\n",
      "\n",
      "Value counts of m5 column\n",
      "------------------------------\n",
      "0    92613\n",
      "1      192\n",
      "2       24\n",
      "3       11\n",
      "4        4\n",
      "5        1\n",
      "6        1\n",
      "Name: m5, dtype: int64\n",
      "\n",
      "Value counts of m6 column\n",
      "------------------------------\n",
      "0    92637\n",
      "1      165\n",
      "2       21\n",
      "3       11\n",
      "4        8\n",
      "5        3\n",
      "7        1\n",
      "Name: m6, dtype: int64\n",
      "\n",
      "Value counts of m7 column\n",
      "------------------------------\n",
      "0    92592\n",
      "1      206\n",
      "2       23\n",
      "3       11\n",
      "5        6\n",
      "4        4\n",
      "6        3\n",
      "8        1\n",
      "Name: m7, dtype: int64\n",
      "\n",
      "Value counts of m8 column\n",
      "------------------------------\n",
      "0    92566\n",
      "1      213\n",
      "2       38\n",
      "3        8\n",
      "4        8\n",
      "6        5\n",
      "5        4\n",
      "7        3\n",
      "9        1\n",
      "Name: m8, dtype: int64\n",
      "\n",
      "Value counts of m9 column\n",
      "------------------------------\n",
      "0     92548\n",
      "1       222\n",
      "2        32\n",
      "3        20\n",
      "5         7\n",
      "4         5\n",
      "7         5\n",
      "6         3\n",
      "8         3\n",
      "10        1\n",
      "Name: m9, dtype: int64\n",
      "\n",
      "Value counts of m10 column\n",
      "------------------------------\n",
      "0     92498\n",
      "1       254\n",
      "2        40\n",
      "3        18\n",
      "4        12\n",
      "6         7\n",
      "5         5\n",
      "8         5\n",
      "7         3\n",
      "9         3\n",
      "11        1\n",
      "Name: m10, dtype: int64\n",
      "\n",
      "Value counts of m11 column\n",
      "------------------------------\n",
      "0     92478\n",
      "1       270\n",
      "2        38\n",
      "3        19\n",
      "4         9\n",
      "5         9\n",
      "7         8\n",
      "6         6\n",
      "9         4\n",
      "8         2\n",
      "10        2\n",
      "11        1\n",
      "Name: m11, dtype: int64\n",
      "\n",
      "Value counts of m12 column\n",
      "------------------------------\n",
      "0     92442\n",
      "1       298\n",
      "2        37\n",
      "3        23\n",
      "4        12\n",
      "6        11\n",
      "7         6\n",
      "5         5\n",
      "10        5\n",
      "8         4\n",
      "11        2\n",
      "9         1\n",
      "Name: m12, dtype: int64\n",
      "\n",
      "Value counts of m13 column\n",
      "------------------------------\n",
      "0    92341\n",
      "1      505\n",
      "Name: m13, dtype: int64\n"
     ]
    }
   ],
   "source": [
    "# Value count of all the columns\n",
    "for column in df_train.columns:\n",
    "     print(\"\\n\"+'Value counts of ' + column+ \" column\\n\"+'-'*30)\n",
    "     print(df_train[column].value_counts())"
   ]
  },
  {
   "cell_type": "code",
   "execution_count": 13,
   "metadata": {
    "execution": {
     "iopub.execute_input": "2021-03-06T18:18:58.482012Z",
     "iopub.status.busy": "2021-03-06T18:18:58.481349Z",
     "iopub.status.idle": "2021-03-06T18:18:58.606058Z",
     "shell.execute_reply": "2021-03-06T18:18:58.606606Z"
    },
    "papermill": {
     "duration": 0.187942,
     "end_time": "2021-03-06T18:18:58.606810",
     "exception": false,
     "start_time": "2021-03-06T18:18:58.418868",
     "status": "completed"
    },
    "tags": []
   },
   "outputs": [
    {
     "data": {
      "text/html": [
       "<div>\n",
       "<style scoped>\n",
       "    .dataframe tbody tr th:only-of-type {\n",
       "        vertical-align: middle;\n",
       "    }\n",
       "\n",
       "    .dataframe tbody tr th {\n",
       "        vertical-align: top;\n",
       "    }\n",
       "\n",
       "    .dataframe thead th {\n",
       "        text-align: right;\n",
       "    }\n",
       "</style>\n",
       "<table border=\"1\" class=\"dataframe\">\n",
       "  <thead>\n",
       "    <tr style=\"text-align: right;\">\n",
       "      <th></th>\n",
       "      <th>interest_rate</th>\n",
       "      <th>unpaid_principal_bal</th>\n",
       "      <th>loan_term</th>\n",
       "      <th>loan_to_value</th>\n",
       "      <th>number_of_borrowers</th>\n",
       "      <th>debt_to_income_ratio</th>\n",
       "      <th>borrower_credit_score</th>\n",
       "      <th>insurance_percent</th>\n",
       "      <th>co-borrower_credit_score</th>\n",
       "      <th>insurance_type</th>\n",
       "      <th>m1</th>\n",
       "      <th>m2</th>\n",
       "      <th>m3</th>\n",
       "      <th>m4</th>\n",
       "      <th>m5</th>\n",
       "      <th>m6</th>\n",
       "      <th>m7</th>\n",
       "      <th>m8</th>\n",
       "      <th>m9</th>\n",
       "      <th>m10</th>\n",
       "      <th>m11</th>\n",
       "      <th>m12</th>\n",
       "      <th>m13</th>\n",
       "    </tr>\n",
       "  </thead>\n",
       "  <tbody>\n",
       "    <tr>\n",
       "      <th>count</th>\n",
       "      <td>92846.000000</td>\n",
       "      <td>92846.000000</td>\n",
       "      <td>92846.000000</td>\n",
       "      <td>92846.000000</td>\n",
       "      <td>92846.000000</td>\n",
       "      <td>92846.000000</td>\n",
       "      <td>92846.000000</td>\n",
       "      <td>92846.000000</td>\n",
       "      <td>92846.000000</td>\n",
       "      <td>92846.000000</td>\n",
       "      <td>92846.000000</td>\n",
       "      <td>92846.000000</td>\n",
       "      <td>92846.000000</td>\n",
       "      <td>92846.000000</td>\n",
       "      <td>92846.000000</td>\n",
       "      <td>92846.000000</td>\n",
       "      <td>92846.000000</td>\n",
       "      <td>92846.000000</td>\n",
       "      <td>92846.000000</td>\n",
       "      <td>92846.000000</td>\n",
       "      <td>92846.000000</td>\n",
       "      <td>92846.000000</td>\n",
       "      <td>92846.000000</td>\n",
       "    </tr>\n",
       "    <tr>\n",
       "      <th>mean</th>\n",
       "      <td>3.869010</td>\n",
       "      <td>208047.325679</td>\n",
       "      <td>292.362816</td>\n",
       "      <td>67.424606</td>\n",
       "      <td>1.592583</td>\n",
       "      <td>30.737792</td>\n",
       "      <td>769.963348</td>\n",
       "      <td>2.801338</td>\n",
       "      <td>459.209982</td>\n",
       "      <td>0.003274</td>\n",
       "      <td>0.003177</td>\n",
       "      <td>0.002057</td>\n",
       "      <td>0.001853</td>\n",
       "      <td>0.001993</td>\n",
       "      <td>0.003231</td>\n",
       "      <td>0.003167</td>\n",
       "      <td>0.003845</td>\n",
       "      <td>0.004577</td>\n",
       "      <td>0.005256</td>\n",
       "      <td>0.006484</td>\n",
       "      <td>0.007098</td>\n",
       "      <td>0.007916</td>\n",
       "      <td>0.005439</td>\n",
       "    </tr>\n",
       "    <tr>\n",
       "      <th>std</th>\n",
       "      <td>0.461126</td>\n",
       "      <td>114625.547432</td>\n",
       "      <td>89.723293</td>\n",
       "      <td>17.326684</td>\n",
       "      <td>0.491356</td>\n",
       "      <td>9.730489</td>\n",
       "      <td>42.311377</td>\n",
       "      <td>8.123954</td>\n",
       "      <td>382.068572</td>\n",
       "      <td>0.057128</td>\n",
       "      <td>0.062447</td>\n",
       "      <td>0.049621</td>\n",
       "      <td>0.050596</td>\n",
       "      <td>0.053589</td>\n",
       "      <td>0.074190</td>\n",
       "      <td>0.080327</td>\n",
       "      <td>0.091753</td>\n",
       "      <td>0.107406</td>\n",
       "      <td>0.123994</td>\n",
       "      <td>0.145742</td>\n",
       "      <td>0.158699</td>\n",
       "      <td>0.171575</td>\n",
       "      <td>0.073550</td>\n",
       "    </tr>\n",
       "    <tr>\n",
       "      <th>min</th>\n",
       "      <td>2.250000</td>\n",
       "      <td>14000.000000</td>\n",
       "      <td>60.000000</td>\n",
       "      <td>6.000000</td>\n",
       "      <td>1.000000</td>\n",
       "      <td>1.000000</td>\n",
       "      <td>0.000000</td>\n",
       "      <td>0.000000</td>\n",
       "      <td>0.000000</td>\n",
       "      <td>0.000000</td>\n",
       "      <td>0.000000</td>\n",
       "      <td>0.000000</td>\n",
       "      <td>0.000000</td>\n",
       "      <td>0.000000</td>\n",
       "      <td>0.000000</td>\n",
       "      <td>0.000000</td>\n",
       "      <td>0.000000</td>\n",
       "      <td>0.000000</td>\n",
       "      <td>0.000000</td>\n",
       "      <td>0.000000</td>\n",
       "      <td>0.000000</td>\n",
       "      <td>0.000000</td>\n",
       "      <td>0.000000</td>\n",
       "    </tr>\n",
       "    <tr>\n",
       "      <th>25%</th>\n",
       "      <td>3.500000</td>\n",
       "      <td>120000.000000</td>\n",
       "      <td>180.000000</td>\n",
       "      <td>57.000000</td>\n",
       "      <td>1.000000</td>\n",
       "      <td>23.000000</td>\n",
       "      <td>751.000000</td>\n",
       "      <td>0.000000</td>\n",
       "      <td>0.000000</td>\n",
       "      <td>0.000000</td>\n",
       "      <td>0.000000</td>\n",
       "      <td>0.000000</td>\n",
       "      <td>0.000000</td>\n",
       "      <td>0.000000</td>\n",
       "      <td>0.000000</td>\n",
       "      <td>0.000000</td>\n",
       "      <td>0.000000</td>\n",
       "      <td>0.000000</td>\n",
       "      <td>0.000000</td>\n",
       "      <td>0.000000</td>\n",
       "      <td>0.000000</td>\n",
       "      <td>0.000000</td>\n",
       "      <td>0.000000</td>\n",
       "    </tr>\n",
       "    <tr>\n",
       "      <th>50%</th>\n",
       "      <td>3.875000</td>\n",
       "      <td>182000.000000</td>\n",
       "      <td>360.000000</td>\n",
       "      <td>72.000000</td>\n",
       "      <td>2.000000</td>\n",
       "      <td>31.000000</td>\n",
       "      <td>782.000000</td>\n",
       "      <td>0.000000</td>\n",
       "      <td>740.000000</td>\n",
       "      <td>0.000000</td>\n",
       "      <td>0.000000</td>\n",
       "      <td>0.000000</td>\n",
       "      <td>0.000000</td>\n",
       "      <td>0.000000</td>\n",
       "      <td>0.000000</td>\n",
       "      <td>0.000000</td>\n",
       "      <td>0.000000</td>\n",
       "      <td>0.000000</td>\n",
       "      <td>0.000000</td>\n",
       "      <td>0.000000</td>\n",
       "      <td>0.000000</td>\n",
       "      <td>0.000000</td>\n",
       "      <td>0.000000</td>\n",
       "    </tr>\n",
       "    <tr>\n",
       "      <th>75%</th>\n",
       "      <td>4.125000</td>\n",
       "      <td>278000.000000</td>\n",
       "      <td>360.000000</td>\n",
       "      <td>80.000000</td>\n",
       "      <td>2.000000</td>\n",
       "      <td>39.000000</td>\n",
       "      <td>800.000000</td>\n",
       "      <td>0.000000</td>\n",
       "      <td>791.000000</td>\n",
       "      <td>0.000000</td>\n",
       "      <td>0.000000</td>\n",
       "      <td>0.000000</td>\n",
       "      <td>0.000000</td>\n",
       "      <td>0.000000</td>\n",
       "      <td>0.000000</td>\n",
       "      <td>0.000000</td>\n",
       "      <td>0.000000</td>\n",
       "      <td>0.000000</td>\n",
       "      <td>0.000000</td>\n",
       "      <td>0.000000</td>\n",
       "      <td>0.000000</td>\n",
       "      <td>0.000000</td>\n",
       "      <td>0.000000</td>\n",
       "    </tr>\n",
       "    <tr>\n",
       "      <th>max</th>\n",
       "      <td>6.750000</td>\n",
       "      <td>915000.000000</td>\n",
       "      <td>360.000000</td>\n",
       "      <td>97.000000</td>\n",
       "      <td>2.000000</td>\n",
       "      <td>64.000000</td>\n",
       "      <td>840.000000</td>\n",
       "      <td>40.000000</td>\n",
       "      <td>836.000000</td>\n",
       "      <td>1.000000</td>\n",
       "      <td>3.000000</td>\n",
       "      <td>3.000000</td>\n",
       "      <td>4.000000</td>\n",
       "      <td>5.000000</td>\n",
       "      <td>6.000000</td>\n",
       "      <td>7.000000</td>\n",
       "      <td>8.000000</td>\n",
       "      <td>9.000000</td>\n",
       "      <td>10.000000</td>\n",
       "      <td>11.000000</td>\n",
       "      <td>11.000000</td>\n",
       "      <td>11.000000</td>\n",
       "      <td>1.000000</td>\n",
       "    </tr>\n",
       "  </tbody>\n",
       "</table>\n",
       "</div>"
      ],
      "text/plain": [
       "       interest_rate  unpaid_principal_bal     loan_term  loan_to_value  \\\n",
       "count   92846.000000          92846.000000  92846.000000   92846.000000   \n",
       "mean        3.869010         208047.325679    292.362816      67.424606   \n",
       "std         0.461126         114625.547432     89.723293      17.326684   \n",
       "min         2.250000          14000.000000     60.000000       6.000000   \n",
       "25%         3.500000         120000.000000    180.000000      57.000000   \n",
       "50%         3.875000         182000.000000    360.000000      72.000000   \n",
       "75%         4.125000         278000.000000    360.000000      80.000000   \n",
       "max         6.750000         915000.000000    360.000000      97.000000   \n",
       "\n",
       "       number_of_borrowers  debt_to_income_ratio  borrower_credit_score  \\\n",
       "count         92846.000000          92846.000000           92846.000000   \n",
       "mean              1.592583             30.737792             769.963348   \n",
       "std               0.491356              9.730489              42.311377   \n",
       "min               1.000000              1.000000               0.000000   \n",
       "25%               1.000000             23.000000             751.000000   \n",
       "50%               2.000000             31.000000             782.000000   \n",
       "75%               2.000000             39.000000             800.000000   \n",
       "max               2.000000             64.000000             840.000000   \n",
       "\n",
       "       insurance_percent  co-borrower_credit_score  insurance_type  \\\n",
       "count       92846.000000              92846.000000    92846.000000   \n",
       "mean            2.801338                459.209982        0.003274   \n",
       "std             8.123954                382.068572        0.057128   \n",
       "min             0.000000                  0.000000        0.000000   \n",
       "25%             0.000000                  0.000000        0.000000   \n",
       "50%             0.000000                740.000000        0.000000   \n",
       "75%             0.000000                791.000000        0.000000   \n",
       "max            40.000000                836.000000        1.000000   \n",
       "\n",
       "                 m1            m2            m3            m4            m5  \\\n",
       "count  92846.000000  92846.000000  92846.000000  92846.000000  92846.000000   \n",
       "mean       0.003177      0.002057      0.001853      0.001993      0.003231   \n",
       "std        0.062447      0.049621      0.050596      0.053589      0.074190   \n",
       "min        0.000000      0.000000      0.000000      0.000000      0.000000   \n",
       "25%        0.000000      0.000000      0.000000      0.000000      0.000000   \n",
       "50%        0.000000      0.000000      0.000000      0.000000      0.000000   \n",
       "75%        0.000000      0.000000      0.000000      0.000000      0.000000   \n",
       "max        3.000000      3.000000      4.000000      5.000000      6.000000   \n",
       "\n",
       "                 m6            m7            m8            m9           m10  \\\n",
       "count  92846.000000  92846.000000  92846.000000  92846.000000  92846.000000   \n",
       "mean       0.003167      0.003845      0.004577      0.005256      0.006484   \n",
       "std        0.080327      0.091753      0.107406      0.123994      0.145742   \n",
       "min        0.000000      0.000000      0.000000      0.000000      0.000000   \n",
       "25%        0.000000      0.000000      0.000000      0.000000      0.000000   \n",
       "50%        0.000000      0.000000      0.000000      0.000000      0.000000   \n",
       "75%        0.000000      0.000000      0.000000      0.000000      0.000000   \n",
       "max        7.000000      8.000000      9.000000     10.000000     11.000000   \n",
       "\n",
       "                m11           m12           m13  \n",
       "count  92846.000000  92846.000000  92846.000000  \n",
       "mean       0.007098      0.007916      0.005439  \n",
       "std        0.158699      0.171575      0.073550  \n",
       "min        0.000000      0.000000      0.000000  \n",
       "25%        0.000000      0.000000      0.000000  \n",
       "50%        0.000000      0.000000      0.000000  \n",
       "75%        0.000000      0.000000      0.000000  \n",
       "max       11.000000     11.000000      1.000000  "
      ]
     },
     "execution_count": 13,
     "metadata": {},
     "output_type": "execute_result"
    }
   ],
   "source": [
    "df_train.describe()"
   ]
  },
  {
   "cell_type": "markdown",
   "metadata": {
    "papermill": {
     "duration": 0.038341,
     "end_time": "2021-03-06T18:18:58.684077",
     "exception": false,
     "start_time": "2021-03-06T18:18:58.645736",
     "status": "completed"
    },
    "tags": []
   },
   "source": [
    "In all the columns the mean is not too far from min-max values so we dont need to do any kind of scaling on the data. "
   ]
  },
  {
   "cell_type": "markdown",
   "metadata": {
    "papermill": {
     "duration": 0.03855,
     "end_time": "2021-03-06T18:18:58.761583",
     "exception": false,
     "start_time": "2021-03-06T18:18:58.723033",
     "status": "completed"
    },
    "tags": []
   },
   "source": [
    "Now lets study the target column"
   ]
  },
  {
   "cell_type": "code",
   "execution_count": 14,
   "metadata": {
    "execution": {
     "iopub.execute_input": "2021-03-06T18:18:58.844604Z",
     "iopub.status.busy": "2021-03-06T18:18:58.843968Z",
     "iopub.status.idle": "2021-03-06T18:18:58.879197Z",
     "shell.execute_reply": "2021-03-06T18:18:58.878516Z"
    },
    "papermill": {
     "duration": 0.078873,
     "end_time": "2021-03-06T18:18:58.879348",
     "exception": false,
     "start_time": "2021-03-06T18:18:58.800475",
     "status": "completed"
    },
    "tags": []
   },
   "outputs": [
    {
     "name": "stdout",
     "output_type": "stream",
     "text": [
      "0    92341\n",
      "1      505\n",
      "Name: m13, dtype: int64\n"
     ]
    },
    {
     "data": {
      "text/plain": [
       "0    99.456089\n",
       "1     0.543911\n",
       "Name: m13, dtype: float64"
      ]
     },
     "execution_count": 14,
     "metadata": {},
     "output_type": "execute_result"
    }
   ],
   "source": [
    "# Class distribution of target column\n",
    "print(df_train.m13.value_counts())\n",
    "\n",
    "# class percentage distribution of target column\n",
    "df_train.m13.value_counts()/len(df_train)*100"
   ]
  },
  {
   "cell_type": "markdown",
   "metadata": {
    "papermill": {
     "duration": 0.039336,
     "end_time": "2021-03-06T18:18:58.958426",
     "exception": false,
     "start_time": "2021-03-06T18:18:58.919090",
     "status": "completed"
    },
    "tags": []
   },
   "source": [
    "The target colum is highly imbalanced once we will so oversampling/undersampling of the data points"
   ]
  },
  {
   "cell_type": "markdown",
   "metadata": {
    "papermill": {
     "duration": 0.039132,
     "end_time": "2021-03-06T18:18:59.037511",
     "exception": false,
     "start_time": "2021-03-06T18:18:58.998379",
     "status": "completed"
    },
    "tags": []
   },
   "source": [
    "### Correlation of independent variables to target column"
   ]
  },
  {
   "cell_type": "code",
   "execution_count": 15,
   "metadata": {
    "execution": {
     "iopub.execute_input": "2021-03-06T18:18:59.126490Z",
     "iopub.status.busy": "2021-03-06T18:18:59.124854Z",
     "iopub.status.idle": "2021-03-06T18:18:59.278967Z",
     "shell.execute_reply": "2021-03-06T18:18:59.279494Z"
    },
    "papermill": {
     "duration": 0.202285,
     "end_time": "2021-03-06T18:18:59.279673",
     "exception": false,
     "start_time": "2021-03-06T18:18:59.077388",
     "status": "completed"
    },
    "tags": []
   },
   "outputs": [
    {
     "data": {
      "text/plain": [
       "interest_rate               0.053255\n",
       "unpaid_principal_bal       -0.013975\n",
       "loan_term                   0.024570\n",
       "loan_to_value               0.016697\n",
       "number_of_borrowers        -0.037628\n",
       "debt_to_income_ratio        0.037886\n",
       "borrower_credit_score      -0.092417\n",
       "insurance_percent           0.006261\n",
       "co-borrower_credit_score   -0.040258\n",
       "insurance_type              0.008578\n",
       "m1                          0.083003\n",
       "m2                          0.138590\n",
       "m3                          0.159372\n",
       "m4                          0.226792\n",
       "m5                          0.253380\n",
       "m6                          0.277835\n",
       "m7                          0.301741\n",
       "m8                          0.334979\n",
       "m9                          0.365346\n",
       "m10                         0.364462\n",
       "m11                         0.411932\n",
       "m12                         0.466867\n",
       "m13                         1.000000\n",
       "Name: m13, dtype: float64"
      ]
     },
     "execution_count": 15,
     "metadata": {},
     "output_type": "execute_result"
    }
   ],
   "source": [
    "# Correlation values of independent columsn to the target column\n",
    "df_train.corr()['m13']"
   ]
  },
  {
   "cell_type": "markdown",
   "metadata": {
    "papermill": {
     "duration": 0.039801,
     "end_time": "2021-03-06T18:18:59.359160",
     "exception": false,
     "start_time": "2021-03-06T18:18:59.319359",
     "status": "completed"
    },
    "tags": []
   },
   "source": [
    "We can see that monthwise delinquency peformance columns are related to target columns more than any other column."
   ]
  },
  {
   "cell_type": "markdown",
   "metadata": {
    "papermill": {
     "duration": 0.04007,
     "end_time": "2021-03-06T18:18:59.439265",
     "exception": false,
     "start_time": "2021-03-06T18:18:59.399195",
     "status": "completed"
    },
    "tags": []
   },
   "source": [
    "## Encoding categorical columns"
   ]
  },
  {
   "cell_type": "code",
   "execution_count": 16,
   "metadata": {
    "execution": {
     "iopub.execute_input": "2021-03-06T18:18:59.548945Z",
     "iopub.status.busy": "2021-03-06T18:18:59.548238Z",
     "iopub.status.idle": "2021-03-06T18:18:59.649932Z",
     "shell.execute_reply": "2021-03-06T18:18:59.650465Z"
    },
    "papermill": {
     "duration": 0.170864,
     "end_time": "2021-03-06T18:18:59.650662",
     "exception": false,
     "start_time": "2021-03-06T18:18:59.479798",
     "status": "completed"
    },
    "tags": []
   },
   "outputs": [
    {
     "name": "stdout",
     "output_type": "stream",
     "text": [
      "source -->\n",
      " X    51067\n",
      "Y    30018\n",
      "Z    11761\n",
      "Name: source, dtype: int64 \n",
      "\n",
      "\n",
      "financial_institution -->\n",
      " OTHER                          39766\n",
      "Browning-Hart                  25536\n",
      "Swanson, Newton and Miller      5444\n",
      "Edwards-Hoffman                 3903\n",
      "Martinez, Duffy and Bird        3746\n",
      "Miller, Mcclure and Allen       2553\n",
      "Nicholson Group                 1733\n",
      "Turner, Baldwin and Rhodes      1480\n",
      "Suarez Inc                      1422\n",
      "Cole, Brooks and Vincent        1290\n",
      "Richards-Walters                1169\n",
      "Taylor, Hunt and Rodriguez       998\n",
      "Sanchez-Robinson                 956\n",
      "Sanchez, Hays and Wilkerson      679\n",
      "Romero, Woods and Johnson        596\n",
      "Thornton-Davis                   510\n",
      "Richardson Ltd                   384\n",
      "Anderson-Taylor                  377\n",
      "Chapman-Mcmahon                  304\n",
      "Name: financial_institution, dtype: int64 \n",
      "\n",
      "\n",
      "origination_date -->\n",
      " 2012-02-01    41951\n",
      "2012-01-01    39235\n",
      "2012-03-01    11660\n",
      "Name: origination_date, dtype: int64 \n",
      "\n",
      "\n",
      "first_payment_date -->\n",
      " 04/2012    42282\n",
      "03/2012    38138\n",
      "05/2012    12000\n",
      "02/2012      426\n",
      "Name: first_payment_date, dtype: int64 \n",
      "\n",
      "\n",
      "loan_purpose -->\n",
      " A23    46820\n",
      "B12    23463\n",
      "C86    22563\n",
      "Name: loan_purpose, dtype: int64 \n",
      "\n",
      "\n"
     ]
    }
   ],
   "source": [
    "for col in category_columns:\n",
    "    print(col ,'-->\\n',df_train[col].value_counts(),'\\n\\n')"
   ]
  },
  {
   "cell_type": "code",
   "execution_count": 17,
   "metadata": {
    "execution": {
     "iopub.execute_input": "2021-03-06T18:18:59.740005Z",
     "iopub.status.busy": "2021-03-06T18:18:59.739375Z",
     "iopub.status.idle": "2021-03-06T18:18:59.843677Z",
     "shell.execute_reply": "2021-03-06T18:18:59.844213Z"
    },
    "papermill": {
     "duration": 0.153055,
     "end_time": "2021-03-06T18:18:59.844439",
     "exception": false,
     "start_time": "2021-03-06T18:18:59.691384",
     "status": "completed"
    },
    "tags": []
   },
   "outputs": [],
   "source": [
    "df_train = pd.get_dummies(df_train, columns = category_columns)\n",
    "df_test = pd.get_dummies(df_test, columns = category_columns)"
   ]
  },
  {
   "cell_type": "markdown",
   "metadata": {
    "papermill": {
     "duration": 0.041072,
     "end_time": "2021-03-06T18:18:59.927408",
     "exception": false,
     "start_time": "2021-03-06T18:18:59.886336",
     "status": "completed"
    },
    "tags": []
   },
   "source": [
    "## Modelling"
   ]
  },
  {
   "cell_type": "markdown",
   "metadata": {
    "papermill": {
     "duration": 0.041798,
     "end_time": "2021-03-06T18:19:00.010732",
     "exception": false,
     "start_time": "2021-03-06T18:18:59.968934",
     "status": "completed"
    },
    "tags": []
   },
   "source": [
    "### With only numeric columns"
   ]
  },
  {
   "cell_type": "code",
   "execution_count": 18,
   "metadata": {
    "execution": {
     "iopub.execute_input": "2021-03-06T18:19:00.100737Z",
     "iopub.status.busy": "2021-03-06T18:19:00.100050Z",
     "iopub.status.idle": "2021-03-06T18:19:00.157054Z",
     "shell.execute_reply": "2021-03-06T18:19:00.156497Z"
    },
    "papermill": {
     "duration": 0.104616,
     "end_time": "2021-03-06T18:19:00.157253",
     "exception": false,
     "start_time": "2021-03-06T18:19:00.052637",
     "status": "completed"
    },
    "tags": []
   },
   "outputs": [],
   "source": [
    "# train test split\n",
    "X = df_train[numeric_columns]\n",
    "y = df_train['m13']\n",
    "\n",
    "X_train, X_test, y_train, y_test = train_test_split(X, y, test_size=0.33, random_state=17)"
   ]
  },
  {
   "cell_type": "code",
   "execution_count": 19,
   "metadata": {
    "execution": {
     "iopub.execute_input": "2021-03-06T18:19:00.247737Z",
     "iopub.status.busy": "2021-03-06T18:19:00.246768Z",
     "iopub.status.idle": "2021-03-06T18:19:01.428221Z",
     "shell.execute_reply": "2021-03-06T18:19:01.428745Z"
    },
    "papermill": {
     "duration": 1.230263,
     "end_time": "2021-03-06T18:19:01.428962",
     "exception": false,
     "start_time": "2021-03-06T18:19:00.198699",
     "status": "completed"
    },
    "tags": []
   },
   "outputs": [
    {
     "name": "stdout",
     "output_type": "stream",
     "text": [
      "              precision    recall  f1-score   support\n",
      "\n",
      "           0       1.00      1.00      1.00     30466\n",
      "           1       1.00      1.00      1.00       174\n",
      "\n",
      "    accuracy                           1.00     30640\n",
      "   macro avg       1.00      1.00      1.00     30640\n",
      "weighted avg       1.00      1.00      1.00     30640\n",
      "\n",
      "[[30466     0]\n",
      " [    0   174]]\n",
      "1.0\n"
     ]
    }
   ],
   "source": [
    "classifier = XGBClassifier(\n",
    "#     scale_pos_weight = (183),\n",
    "    eval_metric = 'error',use_label_encoder=False)\n",
    "classifier.fit(X_train,y_train)\n",
    "y_pred=classifier.predict(X_test)\n",
    "print(classification_report(y_test, y_pred))\n",
    "print(confusion_matrix(y_test, y_pred))\n",
    "print(f1_score(y_test, y_pred))"
   ]
  },
  {
   "cell_type": "markdown",
   "metadata": {
    "papermill": {
     "duration": 0.041264,
     "end_time": "2021-03-06T18:19:01.512166",
     "exception": false,
     "start_time": "2021-03-06T18:19:01.470902",
     "status": "completed"
    },
    "tags": []
   },
   "source": [
    "The f1 score of 1 is not a realistic score so we will take all the columns and again do the run the model over all the columns"
   ]
  },
  {
   "cell_type": "code",
   "execution_count": 20,
   "metadata": {
    "execution": {
     "iopub.execute_input": "2021-03-06T18:19:01.610870Z",
     "iopub.status.busy": "2021-03-06T18:19:01.610197Z",
     "iopub.status.idle": "2021-03-06T18:19:08.183591Z",
     "shell.execute_reply": "2021-03-06T18:19:08.184091Z"
    },
    "papermill": {
     "duration": 6.63085,
     "end_time": "2021-03-06T18:19:08.184296",
     "exception": false,
     "start_time": "2021-03-06T18:19:01.553446",
     "status": "completed"
    },
    "tags": []
   },
   "outputs": [
    {
     "name": "stdout",
     "output_type": "stream",
     "text": [
      "              precision    recall  f1-score   support\n",
      "\n",
      "           0       1.00      1.00      1.00     30466\n",
      "           1       0.71      0.34      0.46       174\n",
      "\n",
      "    accuracy                           1.00     30640\n",
      "   macro avg       0.85      0.67      0.73     30640\n",
      "weighted avg       0.99      1.00      0.99     30640\n",
      "\n",
      "[[30441    25]\n",
      " [  114    60]]\n",
      "0.4633204633204634\n"
     ]
    }
   ],
   "source": [
    "# train test split\n",
    "X = df_train.drop(columns = 'm13')\n",
    "y = df_train['m13']\n",
    "\n",
    "X_train, X_test, y_train, y_test = train_test_split(X, y, test_size=0.33, random_state=17)\n",
    "\n",
    "classifier = XGBClassifier(\n",
    "#     scale_pos_weight = (183),\n",
    "    eval_metric = 'error',use_label_encoder=False)\n",
    "classifier.fit(X_train,y_train)\n",
    "y_pred=classifier.predict(X_test)\n",
    "print(classification_report(y_test, y_pred))\n",
    "print(confusion_matrix(y_test, y_pred))\n",
    "print(f1_score(y_test, y_pred))"
   ]
  },
  {
   "cell_type": "markdown",
   "metadata": {
    "papermill": {
     "duration": 0.042189,
     "end_time": "2021-03-06T18:19:08.268280",
     "exception": false,
     "start_time": "2021-03-06T18:19:08.226091",
     "status": "completed"
    },
    "tags": []
   },
   "source": [
    "Now the score seems to be very less, reason being the target columns highly imbalanced"
   ]
  },
  {
   "cell_type": "markdown",
   "metadata": {
    "papermill": {
     "duration": 0.041976,
     "end_time": "2021-03-06T18:19:08.352386",
     "exception": false,
     "start_time": "2021-03-06T18:19:08.310410",
     "status": "completed"
    },
    "tags": []
   },
   "source": [
    "Let us do sampling of the data to balance target feature.\n",
    "## Sampling\n",
    "As the data is highly imbalanced we will first oversample the minority class using SMOTE and then undersample the majority  class using RandonUnderSampler to balance the minority class."
   ]
  },
  {
   "cell_type": "code",
   "execution_count": 21,
   "metadata": {
    "execution": {
     "iopub.execute_input": "2021-03-06T18:19:08.452605Z",
     "iopub.status.busy": "2021-03-06T18:19:08.451889Z",
     "iopub.status.idle": "2021-03-06T18:19:08.494562Z",
     "shell.execute_reply": "2021-03-06T18:19:08.493847Z"
    },
    "papermill": {
     "duration": 0.099573,
     "end_time": "2021-03-06T18:19:08.494718",
     "exception": false,
     "start_time": "2021-03-06T18:19:08.395145",
     "status": "completed"
    },
    "tags": []
   },
   "outputs": [],
   "source": [
    "X = df_train.drop(columns = 'm13')\n",
    "y = df_train['m13']\n",
    "\n",
    "X_train, X_test, y_train, y_test = train_test_split(X, y, test_size=0.33, random_state=17)\n"
   ]
  },
  {
   "cell_type": "code",
   "execution_count": 22,
   "metadata": {
    "execution": {
     "iopub.execute_input": "2021-03-06T18:19:08.586948Z",
     "iopub.status.busy": "2021-03-06T18:19:08.586045Z",
     "iopub.status.idle": "2021-03-06T18:19:09.529075Z",
     "shell.execute_reply": "2021-03-06T18:19:09.528525Z"
    },
    "papermill": {
     "duration": 0.99207,
     "end_time": "2021-03-06T18:19:09.529244",
     "exception": false,
     "start_time": "2021-03-06T18:19:08.537174",
     "status": "completed"
    },
    "tags": []
   },
   "outputs": [],
   "source": [
    "from imblearn.over_sampling import SMOTE\n",
    "from imblearn.under_sampling import RandomUnderSampler\n",
    "from imblearn.pipeline import Pipeline\n",
    "\n",
    "over = SMOTE(sampling_strategy=.05)\n",
    "under = RandomUnderSampler(sampling_strategy=0.5)\n",
    "steps = [('o', over), ('u', under)]\n",
    "pipeline = Pipeline(steps=steps)\n",
    "# transform the dataset\n",
    "X, y = over.fit_resample(X, y)"
   ]
  },
  {
   "cell_type": "code",
   "execution_count": 23,
   "metadata": {
    "execution": {
     "iopub.execute_input": "2021-03-06T18:19:09.619865Z",
     "iopub.status.busy": "2021-03-06T18:19:09.618917Z",
     "iopub.status.idle": "2021-03-06T18:19:09.626533Z",
     "shell.execute_reply": "2021-03-06T18:19:09.625926Z"
    },
    "papermill": {
     "duration": 0.055332,
     "end_time": "2021-03-06T18:19:09.626672",
     "exception": false,
     "start_time": "2021-03-06T18:19:09.571340",
     "status": "completed"
    },
    "tags": []
   },
   "outputs": [
    {
     "data": {
      "text/plain": [
       "0    92341\n",
       "1     4617\n",
       "Name: m13, dtype: int64"
      ]
     },
     "execution_count": 23,
     "metadata": {},
     "output_type": "execute_result"
    }
   ],
   "source": [
    "y.value_counts()"
   ]
  },
  {
   "cell_type": "code",
   "execution_count": 24,
   "metadata": {
    "execution": {
     "iopub.execute_input": "2021-03-06T18:19:09.717623Z",
     "iopub.status.busy": "2021-03-06T18:19:09.716734Z",
     "iopub.status.idle": "2021-03-06T18:19:09.750099Z",
     "shell.execute_reply": "2021-03-06T18:19:09.749560Z"
    },
    "papermill": {
     "duration": 0.081438,
     "end_time": "2021-03-06T18:19:09.750268",
     "exception": false,
     "start_time": "2021-03-06T18:19:09.668830",
     "status": "completed"
    },
    "tags": []
   },
   "outputs": [],
   "source": [
    "X_train, X_test, y_train, y_test = train_test_split(X, y, test_size=0.33, random_state=17)"
   ]
  },
  {
   "cell_type": "code",
   "execution_count": 25,
   "metadata": {
    "execution": {
     "iopub.execute_input": "2021-03-06T18:19:09.842870Z",
     "iopub.status.busy": "2021-03-06T18:19:09.841830Z",
     "iopub.status.idle": "2021-03-06T18:19:16.633488Z",
     "shell.execute_reply": "2021-03-06T18:19:16.632876Z"
    },
    "papermill": {
     "duration": 6.84039,
     "end_time": "2021-03-06T18:19:16.633672",
     "exception": false,
     "start_time": "2021-03-06T18:19:09.793282",
     "status": "completed"
    },
    "tags": []
   },
   "outputs": [
    {
     "name": "stdout",
     "output_type": "stream",
     "text": [
      "0.9485903814262022\n"
     ]
    }
   ],
   "source": [
    "classifier = XGBClassifier(\n",
    "#     scale_pos_weight = (183),\n",
    "    eval_metric = 'error',use_label_encoder=False)\n",
    "classifier.fit(X_train,y_train)\n",
    "y_pred=classifier.predict(X_test)\n",
    "print(f1_score(y_test, y_pred))"
   ]
  },
  {
   "cell_type": "markdown",
   "metadata": {
    "papermill": {
     "duration": 0.043857,
     "end_time": "2021-03-06T18:19:16.722761",
     "exception": false,
     "start_time": "2021-03-06T18:19:16.678904",
     "status": "completed"
    },
    "tags": []
   },
   "source": [
    "Class distriburion of the train dataset"
   ]
  },
  {
   "cell_type": "code",
   "execution_count": 26,
   "metadata": {
    "execution": {
     "iopub.execute_input": "2021-03-06T18:19:16.817161Z",
     "iopub.status.busy": "2021-03-06T18:19:16.816451Z",
     "iopub.status.idle": "2021-03-06T18:19:16.822562Z",
     "shell.execute_reply": "2021-03-06T18:19:16.823037Z"
    },
    "papermill": {
     "duration": 0.055994,
     "end_time": "2021-03-06T18:19:16.823291",
     "exception": false,
     "start_time": "2021-03-06T18:19:16.767297",
     "status": "completed"
    },
    "tags": []
   },
   "outputs": [
    {
     "data": {
      "text/plain": [
       "0    61902\n",
       "1     3059\n",
       "Name: m13, dtype: int64"
      ]
     },
     "execution_count": 26,
     "metadata": {},
     "output_type": "execute_result"
    }
   ],
   "source": [
    "y_train.value_counts()"
   ]
  },
  {
   "cell_type": "code",
   "execution_count": 27,
   "metadata": {
    "execution": {
     "iopub.execute_input": "2021-03-06T18:19:16.920600Z",
     "iopub.status.busy": "2021-03-06T18:19:16.919888Z",
     "iopub.status.idle": "2021-03-06T18:19:16.926331Z",
     "shell.execute_reply": "2021-03-06T18:19:16.925753Z"
    },
    "papermill": {
     "duration": 0.055841,
     "end_time": "2021-03-06T18:19:16.926498",
     "exception": false,
     "start_time": "2021-03-06T18:19:16.870657",
     "status": "completed"
    },
    "tags": []
   },
   "outputs": [
    {
     "data": {
      "text/plain": [
       "0    61902\n",
       "1     3059\n",
       "Name: m13, dtype: int64"
      ]
     },
     "execution_count": 27,
     "metadata": {},
     "output_type": "execute_result"
    }
   ],
   "source": [
    "y_train.value_counts()"
   ]
  },
  {
   "cell_type": "markdown",
   "metadata": {
    "papermill": {
     "duration": 0.044129,
     "end_time": "2021-03-06T18:19:17.015630",
     "exception": false,
     "start_time": "2021-03-06T18:19:16.971501",
     "status": "completed"
    },
    "tags": []
   },
   "source": [
    "class distribution on predicted values"
   ]
  },
  {
   "cell_type": "code",
   "execution_count": 28,
   "metadata": {
    "execution": {
     "iopub.execute_input": "2021-03-06T18:19:17.111697Z",
     "iopub.status.busy": "2021-03-06T18:19:17.111044Z",
     "iopub.status.idle": "2021-03-06T18:19:17.119085Z",
     "shell.execute_reply": "2021-03-06T18:19:17.118521Z"
    },
    "papermill": {
     "duration": 0.05889,
     "end_time": "2021-03-06T18:19:17.119282",
     "exception": false,
     "start_time": "2021-03-06T18:19:17.060392",
     "status": "completed"
    },
    "tags": []
   },
   "outputs": [
    {
     "data": {
      "text/plain": [
       "0    30540\n",
       "1     1457\n",
       "dtype: int64"
      ]
     },
     "execution_count": 28,
     "metadata": {},
     "output_type": "execute_result"
    }
   ],
   "source": [
    "pd.DataFrame(y_pred).value_counts()"
   ]
  },
  {
   "cell_type": "markdown",
   "metadata": {
    "papermill": {
     "duration": 0.046537,
     "end_time": "2021-03-06T18:19:17.211214",
     "exception": false,
     "start_time": "2021-03-06T18:19:17.164677",
     "status": "completed"
    },
    "tags": []
   },
   "source": [
    "Lets try few more models"
   ]
  },
  {
   "cell_type": "code",
   "execution_count": 29,
   "metadata": {
    "execution": {
     "iopub.execute_input": "2021-03-06T18:19:17.308456Z",
     "iopub.status.busy": "2021-03-06T18:19:17.307419Z",
     "iopub.status.idle": "2021-03-06T18:19:17.310928Z",
     "shell.execute_reply": "2021-03-06T18:19:17.310299Z"
    },
    "papermill": {
     "duration": 0.05443,
     "end_time": "2021-03-06T18:19:17.311088",
     "exception": false,
     "start_time": "2021-03-06T18:19:17.256658",
     "status": "completed"
    },
    "tags": []
   },
   "outputs": [],
   "source": [
    "from sklearn.ensemble import RandomForestClassifier,AdaBoostClassifier,GradientBoostingClassifier\n",
    "from sklearn.tree import DecisionTreeClassifier"
   ]
  },
  {
   "cell_type": "code",
   "execution_count": 30,
   "metadata": {
    "execution": {
     "iopub.execute_input": "2021-03-06T18:19:17.412732Z",
     "iopub.status.busy": "2021-03-06T18:19:17.411182Z",
     "iopub.status.idle": "2021-03-06T18:19:18.104360Z",
     "shell.execute_reply": "2021-03-06T18:19:18.103675Z"
    },
    "papermill": {
     "duration": 0.74802,
     "end_time": "2021-03-06T18:19:18.104529",
     "exception": false,
     "start_time": "2021-03-06T18:19:17.356509",
     "status": "completed"
    },
    "tags": []
   },
   "outputs": [
    {
     "data": {
      "text/plain": [
       "0.8829236739974128"
      ]
     },
     "execution_count": 30,
     "metadata": {},
     "output_type": "execute_result"
    }
   ],
   "source": [
    "# Step 3: Fit a Decision Tree model as comparison\n",
    "clf = DecisionTreeClassifier()\n",
    "clf.fit(X_train, y_train)\n",
    "y_pred = clf.predict(X_test)\n",
    "f1_score(y_test, y_pred)"
   ]
  },
  {
   "cell_type": "code",
   "execution_count": 31,
   "metadata": {
    "execution": {
     "iopub.execute_input": "2021-03-06T18:19:18.205711Z",
     "iopub.status.busy": "2021-03-06T18:19:18.204978Z",
     "iopub.status.idle": "2021-03-06T18:19:26.662515Z",
     "shell.execute_reply": "2021-03-06T18:19:26.661923Z"
    },
    "papermill": {
     "duration": 8.511908,
     "end_time": "2021-03-06T18:19:26.662675",
     "exception": false,
     "start_time": "2021-03-06T18:19:18.150767",
     "status": "completed"
    },
    "tags": []
   },
   "outputs": [
    {
     "data": {
      "text/plain": [
       "0.9290279179280189"
      ]
     },
     "execution_count": 31,
     "metadata": {},
     "output_type": "execute_result"
    }
   ],
   "source": [
    "# Step 4: Fit a Random Forest model, \" compared to \"Decision Tree model, accuracy go up by 5%\n",
    "clf1 = RandomForestClassifier(n_estimators=100, max_features=\"auto\",random_state=0)\n",
    "clf1.fit(X_train, y_train)\n",
    "y_pred1 = clf1.predict(X_test)\n",
    "f1_score(y_test, y_pred1)"
   ]
  },
  {
   "cell_type": "code",
   "execution_count": 32,
   "metadata": {
    "execution": {
     "iopub.execute_input": "2021-03-06T18:19:26.764519Z",
     "iopub.status.busy": "2021-03-06T18:19:26.763803Z",
     "iopub.status.idle": "2021-03-06T18:19:35.109363Z",
     "shell.execute_reply": "2021-03-06T18:19:35.108653Z"
    },
    "papermill": {
     "duration": 8.400427,
     "end_time": "2021-03-06T18:19:35.109536",
     "exception": false,
     "start_time": "2021-03-06T18:19:26.709109",
     "status": "completed"
    },
    "tags": []
   },
   "outputs": [
    {
     "data": {
      "text/plain": [
       "0.9096530401923737"
      ]
     },
     "execution_count": 32,
     "metadata": {},
     "output_type": "execute_result"
    }
   ],
   "source": [
    "# Step 5: Fit a AdaBoost model, \" compared to \"Decision Tree model, accuracy go up by 10%\n",
    "clf2 = AdaBoostClassifier(n_estimators=100)\n",
    "clf2.fit(X_train, y_train)\n",
    "y_pred2 = clf2.predict(X_test)\n",
    "f1_score(y_test, y_pred2)"
   ]
  },
  {
   "cell_type": "code",
   "execution_count": 33,
   "metadata": {
    "execution": {
     "iopub.execute_input": "2021-03-06T18:19:35.214866Z",
     "iopub.status.busy": "2021-03-06T18:19:35.213398Z",
     "iopub.status.idle": "2021-03-06T18:19:49.044182Z",
     "shell.execute_reply": "2021-03-06T18:19:49.044742Z"
    },
    "papermill": {
     "duration": 13.887993,
     "end_time": "2021-03-06T18:19:49.044960",
     "exception": false,
     "start_time": "2021-03-06T18:19:35.156967",
     "status": "completed"
    },
    "tags": []
   },
   "outputs": [
    {
     "data": {
      "text/plain": [
       "0.9098417068134893"
      ]
     },
     "execution_count": 33,
     "metadata": {},
     "output_type": "execute_result"
    }
   ],
   "source": [
    "# Step 6: Fit a Gradient Boosting model, \" compared to \"Decision Tree model, accuracy go up by 10%\n",
    "clf3 = GradientBoostingClassifier(n_estimators=100)\n",
    "clf3.fit(X_train, y_train)\n",
    "y_pred3 = clf3.predict(X_test)\n",
    "f1_score(y_test, y_pred3)"
   ]
  },
  {
   "cell_type": "markdown",
   "metadata": {
    "papermill": {
     "duration": 0.047156,
     "end_time": "2021-03-06T18:19:49.140851",
     "exception": false,
     "start_time": "2021-03-06T18:19:49.093695",
     "status": "completed"
    },
    "tags": []
   },
   "source": [
    "AS XGBOOST IS GIVING  BETTER RESULT WE WILL USE THAT TO PRDICT THE TEST TARGET VALUES"
   ]
  },
  {
   "cell_type": "code",
   "execution_count": 34,
   "metadata": {
    "execution": {
     "iopub.execute_input": "2021-03-06T18:19:49.239344Z",
     "iopub.status.busy": "2021-03-06T18:19:49.238646Z",
     "iopub.status.idle": "2021-03-06T18:19:49.294904Z",
     "shell.execute_reply": "2021-03-06T18:19:49.295538Z"
    },
    "papermill": {
     "duration": 0.107424,
     "end_time": "2021-03-06T18:19:49.295783",
     "exception": false,
     "start_time": "2021-03-06T18:19:49.188359",
     "status": "completed"
    },
    "tags": []
   },
   "outputs": [],
   "source": [
    "y_sub_pred=classifier.predict(df_test)"
   ]
  },
  {
   "cell_type": "code",
   "execution_count": 35,
   "metadata": {
    "execution": {
     "iopub.execute_input": "2021-03-06T18:19:49.398750Z",
     "iopub.status.busy": "2021-03-06T18:19:49.397900Z",
     "iopub.status.idle": "2021-03-06T18:19:49.402548Z",
     "shell.execute_reply": "2021-03-06T18:19:49.401913Z"
    },
    "papermill": {
     "duration": 0.057693,
     "end_time": "2021-03-06T18:19:49.402704",
     "exception": false,
     "start_time": "2021-03-06T18:19:49.345011",
     "status": "completed"
    },
    "tags": []
   },
   "outputs": [
    {
     "data": {
      "text/plain": [
       "23212"
      ]
     },
     "execution_count": 35,
     "metadata": {},
     "output_type": "execute_result"
    }
   ],
   "source": [
    "len(y_sub_pred)"
   ]
  },
  {
   "cell_type": "code",
   "execution_count": 36,
   "metadata": {
    "execution": {
     "iopub.execute_input": "2021-03-06T18:19:49.505087Z",
     "iopub.status.busy": "2021-03-06T18:19:49.504469Z",
     "iopub.status.idle": "2021-03-06T18:19:49.507764Z",
     "shell.execute_reply": "2021-03-06T18:19:49.507213Z"
    },
    "papermill": {
     "duration": 0.057446,
     "end_time": "2021-03-06T18:19:49.507928",
     "exception": false,
     "start_time": "2021-03-06T18:19:49.450482",
     "status": "completed"
    },
    "tags": []
   },
   "outputs": [],
   "source": [
    "df_sub['m13'] = y_sub_pred"
   ]
  },
  {
   "cell_type": "markdown",
   "metadata": {
    "papermill": {
     "duration": 0.047568,
     "end_time": "2021-03-06T18:19:49.603537",
     "exception": false,
     "start_time": "2021-03-06T18:19:49.555969",
     "status": "completed"
    },
    "tags": []
   },
   "source": [
    "Submission csv file"
   ]
  },
  {
   "cell_type": "code",
   "execution_count": 37,
   "metadata": {
    "execution": {
     "iopub.execute_input": "2021-03-06T18:19:49.708351Z",
     "iopub.status.busy": "2021-03-06T18:19:49.707349Z",
     "iopub.status.idle": "2021-03-06T18:19:49.759786Z",
     "shell.execute_reply": "2021-03-06T18:19:49.759022Z"
    },
    "papermill": {
     "duration": 0.106412,
     "end_time": "2021-03-06T18:19:49.759954",
     "exception": false,
     "start_time": "2021-03-06T18:19:49.653542",
     "status": "completed"
    },
    "tags": []
   },
   "outputs": [],
   "source": [
    "df_sub.to_csv('sub_xgboost_final.csv', index=False)"
   ]
  }
 ],
 "metadata": {
  "kernelspec": {
   "display_name": "Python 3",
   "language": "python",
   "name": "python3"
  },
  "language_info": {
   "codemirror_mode": {
    "name": "ipython",
    "version": 3
   },
   "file_extension": ".py",
   "mimetype": "text/x-python",
   "name": "python",
   "nbconvert_exporter": "python",
   "pygments_lexer": "ipython3",
   "version": "3.7.9"
  },
  "papermill": {
   "default_parameters": {},
   "duration": 107.991765,
   "end_time": "2021-03-06T18:19:51.625470",
   "environment_variables": {},
   "exception": null,
   "input_path": "__notebook__.ipynb",
   "output_path": "__notebook__.ipynb",
   "parameters": {},
   "start_time": "2021-03-06T18:18:03.633705",
   "version": "2.2.2"
  }
 },
 "nbformat": 4,
 "nbformat_minor": 4
}
